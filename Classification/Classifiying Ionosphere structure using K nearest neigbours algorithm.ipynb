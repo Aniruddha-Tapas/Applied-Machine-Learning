{
 "cells": [
  {
   "cell_type": "markdown",
   "metadata": {},
   "source": [
    "# Classifying Ionosphere structure using K nearest neigbours algorithm\n",
    "<hr>\n",
    "\n",
    "### Nearest neighbors\n",
    "Amongst the standard machine algorithms, Nearest neighbors is perhaps one of the most intuitive algorithms. To predict the class of a new sample, we look through the training dataset for the samples that are most similar to our new sample.\n",
    "We take the most similar sample and predict the class that the majority of those samples have. As an example, we wish to predict the class of the '?', based on which class it is more similar to (represented here by having similar objects closer together). We find the five nearest neighbors, which are three triangles, one circle and one plus. There are more\n",
    "triangles than circles and plus, and hence the predicted class for the '?' is, therefore, a triangle.\n",
    "\n",
    "<img src = \"images/knn.png\">\n",
    "\n",
    "[[image source]](https://github.com/rasbt/python-machine-learning-book/tree/master/images/image_gallery)"
   ]
  },
  {
   "cell_type": "markdown",
   "metadata": {},
   "source": [
    "Nearest neighbors can be used for nearly any dataset-however, since we will have to compute the distance between all pairs of samples, it can be very computationally expensive to do so.\n",
    "For example if there are 10 samples in the dataset, there are 45 unique distances\n",
    "to compute. However, if there are 1000 samples, there are nearly 500,000!\n",
    "\n",
    "#### Distance metrics\n",
    "If we have two samples, we need to know how close they are to each other. Further more, we need to answer\n",
    "questions such as are these two samples more similar than the other two?\n",
    "The most common distance metric that you might have heard of is Euclidean\n",
    "distance, which is the real-world distance. Formally, Euclidean distance is the square root of the sum of the squared\n",
    "distances for each feature. It is intuitive, albeit provides poor accuracy if some features have larger values than others. It also gives poor results when lots of features have a value of 0, i.e our data is 'sparse'. There are other distance metrics in use; two commonly employed ones are the Manhattan and Cosine distance. The Manhattan distance is the sum of the absolute differences in each feature (with no use of square distances). While the Manhattan distance does suffer if\n",
    "some features have larger values than others, the effect is not as dramatic as in the\n",
    "case of Euclidean. Regardless for the implementation of KNN algorithm here, we would consider the Euclidean distance."
   ]
  },
  {
   "cell_type": "markdown",
   "metadata": {},
   "source": [
    "## Dataset\n",
    "\n",
    "To understand KNNs, We will use the Ionosphere dataset, which is the recording of many\n",
    "high-frequency antennas. The aim of the antennas is to determine whether there is a\n",
    "structure in the ionosphere and a region in the upper atmosphere. Those that have a\n",
    "structure are classified as good, while those that do not are classified as bad. Our aim is to determine whether an image\n",
    "is good or bad.\n",
    "You can download the dataset from : http://archive.ics.uci.edu/ml/datasets/Ionosphere.\n",
    "Save the ionosphere.data file from the Data Folder to a folder named \"data\" on your computer. \n",
    "\n",
    "For each row in the dataset, there are 35 values. The first 34 are measurements taken\n",
    "from the 17 antennas (two values for each antenna). The last is either 'g' or 'b'; that\n",
    "stands for good and bad, respectively."
   ]
  },
  {
   "cell_type": "code",
   "execution_count": 1,
   "metadata": {
    "collapsed": false
   },
   "outputs": [],
   "source": [
    "import csv\n",
    "import numpy as np\n",
    "\n",
    "# Size taken from the dataset and is known\n",
    "X = np.zeros((351, 34), dtype='float')\n",
    "y = np.zeros((351,), dtype='bool')\n",
    "\n",
    "with open(\"data/Ionosphere/ionosphere.data\", 'r') as input_file:\n",
    "    reader = csv.reader(input_file)\n",
    "    for i, row in enumerate(reader):\n",
    "        # Get the data, converting each item to a float\n",
    "        data = [float(datum) for datum in row[:-1]]\n",
    "        # Set the appropriate row in our dataset\n",
    "        X[i] = data\n",
    "        # 1 if the class is 'g', 0 otherwise\n",
    "        y[i] = row[-1] == 'g'"
   ]
  },
  {
   "cell_type": "markdown",
   "metadata": {},
   "source": [
    "First, we load up the NumPy and csv modules. Then we create the X and y NumPy arrays to store the dataset in. The sizes of these\n",
    "arrays are known from the dataset. We take the first 34 values from this sample, turn each into a float, and save that to\n",
    "our dataset. Finally, we take the last value of the row and set the class. We set it to 1 (or True) if it\n",
    "is a good sample, and 0 if it is not. We now have a dataset of samples and features in X, and the corresponding classes in y"
   ]
  },
  {
   "cell_type": "markdown",
   "metadata": {},
   "source": [
    "Estimators in scikit-learn have two main functions: fit() and predict().\n",
    "We train the algorithm using the fit method and our training set. We evaluate it\n",
    "using the predict method on our testing set.\n",
    "First, we need to create these training and testing sets. As before, import and run the\n",
    "train_test_split function:"
   ]
  },
  {
   "cell_type": "code",
   "execution_count": 9,
   "metadata": {
    "collapsed": false
   },
   "outputs": [
    {
     "name": "stdout",
     "output_type": "stream",
     "text": [
      "There are 263 samples in the training dataset\n",
      "There are 88 samples in the testing dataset\n",
      "Each sample has 34 features\n"
     ]
    }
   ],
   "source": [
    "from sklearn.cross_validation import train_test_split\n",
    "X_train, X_test, y_train, y_test = train_test_split(X, y, random_state=14)\n",
    "print(\"There are {} samples in the training dataset\".format(X_train.shape[0]))\n",
    "print(\"There are {} samples in the testing dataset\".format(X_test.shape[0]))\n",
    "print(\"Each sample has {} features\".format(X_train.shape[1]))"
   ]
  },
  {
   "cell_type": "markdown",
   "metadata": {},
   "source": [
    "Then, we import the nearest neighbor class and create an instance for it using the default parameters. By default, the algorithm will choose the five nearest neighbors to predict\n",
    "the class of a testing sample:"
   ]
  },
  {
   "cell_type": "code",
   "execution_count": 12,
   "metadata": {
    "collapsed": false
   },
   "outputs": [],
   "source": [
    "from sklearn.neighbors import KNeighborsClassifier\n",
    "\n",
    "estimator = KNeighborsClassifier()"
   ]
  },
  {
   "cell_type": "markdown",
   "metadata": {},
   "source": [
    "After creating our estimator, we must then fit it on our training dataset. For the\n",
    "nearest neighbor class, this records our dataset, allowing us to find the nearest\n",
    "neighbor for a new data point, by comparing that point to the training dataset:\n",
    "estimator.fit(X_train, y_train)\n",
    "We then train the algorithm with our test set and evaluate with our testing set:"
   ]
  },
  {
   "cell_type": "code",
   "execution_count": 13,
   "metadata": {
    "collapsed": false
   },
   "outputs": [
    {
     "data": {
      "text/plain": [
       "KNeighborsClassifier(algorithm='auto', leaf_size=30, metric='minkowski',\n",
       "           metric_params=None, n_jobs=1, n_neighbors=5, p=2,\n",
       "           weights='uniform')"
      ]
     },
     "execution_count": 13,
     "metadata": {},
     "output_type": "execute_result"
    }
   ],
   "source": [
    "estimator.fit(X_train, y_train)"
   ]
  },
  {
   "cell_type": "code",
   "execution_count": 14,
   "metadata": {
    "collapsed": false
   },
   "outputs": [
    {
     "name": "stdout",
     "output_type": "stream",
     "text": [
      "The accuracy is 86.4%\n"
     ]
    }
   ],
   "source": [
    "y_predicted = estimator.predict(X_test)\n",
    "accuracy = np.mean(y_test == y_predicted) * 100\n",
    "print(\"The accuracy is {0:.1f}%\".format(accuracy))"
   ]
  },
  {
   "cell_type": "markdown",
   "metadata": {},
   "source": [
    "This scores 86.4 percent accuracy, which is impressive for a default algorithm and\n",
    "just a few lines of code! Most scikit-learn default parameters are chosen explicitly\n",
    "to work well with a range of datasets. However, you should always aim to choose\n",
    "parameters based on knowledge of the application experiment."
   ]
  },
  {
   "cell_type": "code",
   "execution_count": 15,
   "metadata": {
    "collapsed": false
   },
   "outputs": [],
   "source": [
    "from sklearn.cross_validation import cross_val_score"
   ]
  },
  {
   "cell_type": "code",
   "execution_count": 16,
   "metadata": {
    "collapsed": false
   },
   "outputs": [
    {
     "name": "stdout",
     "output_type": "stream",
     "text": [
      "The average accuracy is 82.3%\n"
     ]
    }
   ],
   "source": [
    "scores = cross_val_score(estimator, X, y, scoring='accuracy')\n",
    "average_accuracy = np.mean(scores) * 100\n",
    "print(\"The average accuracy is {0:.1f}%\".format(average_accuracy))"
   ]
  },
  {
   "cell_type": "markdown",
   "metadata": {},
   "source": [
    "Using cross validation, the model this gives a slightly more modest result of 82.3 percent, but it is still quite good\n",
    "considering we have not yet tried setting better parameters."
   ]
  },
  {
   "cell_type": "markdown",
   "metadata": {},
   "source": [
    "### Tuning parameters\n",
    "Almost all data mining algorithms have parameters that the user can set. This is\n",
    "often a cause of generalizing an algorithm to allow it to be applicable in a wide\n",
    "variety of circumstances. Setting these parameters can be quite difficult, as choosing\n",
    "good parameter values is often highly reliant on features of the dataset.\n",
    "The nearest neighbor algorithm has several parameters, but the most important\n",
    "one is that of the number of nearest neighbors to use when predicting the class of\n",
    "an unseen attribution. In scikit-learn, this parameter is called n_neighbors.\n",
    "In the following figure, we show that when this number is too low, a randomly\n",
    "labeled sample can cause an error. In contrast, when it is too high, the actual nearest\n",
    "neighbors have a lower effect on the result. \n",
    "\n",
    "If we want to test a number of values for the n_neighbors parameter, for example,\n",
    "each of the values from 1 to 20, we can rerun the experiment many times by setting\n",
    "n_neighbors and observing the result:"
   ]
  },
  {
   "cell_type": "code",
   "execution_count": 17,
   "metadata": {
    "collapsed": false
   },
   "outputs": [],
   "source": [
    "avg_scores = []\n",
    "all_scores = []\n",
    "parameter_values = list(range(1, 21))  # Including 20\n",
    "for n_neighbors in parameter_values:\n",
    "    estimator = KNeighborsClassifier(n_neighbors=n_neighbors)\n",
    "    scores = cross_val_score(estimator, X, y, scoring='accuracy')\n",
    "    avg_scores.append(np.mean(scores))\n",
    "    all_scores.append(scores)"
   ]
  },
  {
   "cell_type": "markdown",
   "metadata": {},
   "source": [
    "We compute and store the average in our list of scores. We also store the full set of\n",
    "scores for later analysis. We can then plot the relationship between the value of n_neighbors and the\n",
    "accuracy."
   ]
  },
  {
   "cell_type": "code",
   "execution_count": 18,
   "metadata": {
    "collapsed": false
   },
   "outputs": [],
   "source": [
    "%matplotlib inline"
   ]
  },
  {
   "cell_type": "markdown",
   "metadata": {},
   "source": [
    "We then import pyplot from the matplotlib library and plot the parameter values\n",
    "alongside average scores:"
   ]
  },
  {
   "cell_type": "code",
   "execution_count": 19,
   "metadata": {
    "collapsed": false
   },
   "outputs": [
    {
     "data": {
      "text/plain": [
       "[<matplotlib.lines.Line2D at 0x82d46d8>]"
      ]
     },
     "execution_count": 19,
     "metadata": {},
     "output_type": "execute_result"
    },
    {
     "data": {
      "image/png": "[encoded data removed]",
      "text/plain": [
       "<matplotlib.figure.Figure at 0x81a8a90>"
      ]
     },
     "metadata": {},
     "output_type": "display_data"
    }
   ],
   "source": [
    "from matplotlib import pyplot as plt\n",
    "plt.figure(figsize=(32,20))\n",
    "plt.plot(parameter_values, avg_scores, '-o', linewidth=5, markersize=24)\n",
    "#plt.axis([0, max(parameter_values), 0, 1.0])"
   ]
  },
  {
   "cell_type": "markdown",
   "metadata": {},
   "source": [
    "While there is a lot of variance, the plot shows a decreasing trend as the number of\n",
    "neighbors increases.\n",
    "\n",
    "### Preprocessing using pipelines\n",
    "When taking measurements of real-world objects, we can often get features in\n",
    "very different ranges. Like we saw in the case of classifying Animal data using Naive Bayes, if we are measuring the qualities of an animal,\n",
    "we considered several features, as follows:\n",
    "\n",
    "* Number of legs: This is between the range of 0-8 for most animals, while\n",
    "some have many more!\n",
    "* Weight: This is between the range of only a few micrograms, all the way\n",
    "to a blue whale with a weight of 190,000 kilograms!\n",
    "* Number of hearts: This can be between zero to five, in the case of\n",
    "the earthworm.\n",
    "\n",
    "For a mathematical-based algorithm to compare each of these features, the differences in the scale, range, and units can be difficult to interpret. If we used the above features in many algorithms, the weight would probably be the most\n",
    "influential feature due to only the larger numbers and not anything to do with the actual effectiveness of the feature.\n",
    "One of the methods to overcome this is to use a process called preprocessing to normalize the features so that they all have the same range, or are put into categories like small, medium and large. Suddenly, the large difference in the\n",
    "types of features has less of an impact on the algorithm, and can lead to large\n",
    "increases in the accuracy.\n",
    "Preprocessing can also be used to choose only the more effective features, create new\n",
    "features, and so on. Preprocessing in scikit-learn is done through Transformer\n",
    "objects, which take a dataset in one form and return an altered dataset after some\n",
    "transformation of the data. These don't have to be numerical, as Transformers are also\n",
    "used to extract features-however, in this section, we will stick with preprocessing.\n",
    "An example\n",
    "We can show an example of the problem by breaking the Ionosphere dataset.\n",
    "While this is only an example, many real-world datasets have problems of this\n",
    "form. First, we create a copy of the array so that we do not alter the original dataset:"
   ]
  },
  {
   "cell_type": "code",
   "execution_count": 22,
   "metadata": {
    "collapsed": false
   },
   "outputs": [],
   "source": [
    "X_broken = np.array(X)"
   ]
  },
  {
   "cell_type": "markdown",
   "metadata": {
    "collapsed": true
   },
   "source": [
    "Next, we break the dataset by dividing every second feature by 10:\n"
   ]
  },
  {
   "cell_type": "code",
   "execution_count": 24,
   "metadata": {
    "collapsed": true
   },
   "outputs": [],
   "source": [
    "X_broken[:,::2] /= 10"
   ]
  },
  {
   "cell_type": "markdown",
   "metadata": {
    "collapsed": true
   },
   "source": [
    "In theory, this should not have a great effect on the result. After all, the values\n",
    "for these features are still relatively the same. The major issue is that the scale has\n",
    "changed and the odd features are now larger than the even features. We can see the\n",
    "effect of this by computing the accuracy:"
   ]
  },
  {
   "cell_type": "code",
   "execution_count": 28,
   "metadata": {
    "collapsed": false
   },
   "outputs": [
    {
     "name": "stdout",
     "output_type": "stream",
     "text": [
      "The original average accuracy for is 82.3%\n",
      "The 'broken' average accuracy for is 70.4%\n"
     ]
    }
   ],
   "source": [
    "estimator = KNeighborsClassifier()\n",
    "original_scores = cross_val_score(estimator, X, y,scoring='accuracy')\n",
    "print(\"The original average accuracy for is {0:.1f}%\".format(np.mean(original_scores) * 100))\n",
    "broken_scores = cross_val_score(estimator, X_broken, y,scoring='accuracy')\n",
    "print(\"The 'broken' average accuracy for is {0:.1f}%\".format(np.mean(broken_scores) * 100))"
   ]
  },
  {
   "cell_type": "markdown",
   "metadata": {},
   "source": [
    "This gives a score of 82.3 percent for the original dataset, which drops down to\n",
    "71.5 percent on the broken dataset. We can fix this by scaling all the features to\n",
    "the range 0 to 1."
   ]
  },
  {
   "cell_type": "markdown",
   "metadata": {},
   "source": [
    "### Standard preprocessing\n",
    "The preprocessing we will perform for this experiment is called feature-based\n",
    "normalization through the MinMaxScaler class."
   ]
  },
  {
   "cell_type": "code",
   "execution_count": 31,
   "metadata": {
    "collapsed": true
   },
   "outputs": [],
   "source": [
    "from sklearn.preprocessing import MinMaxScaler"
   ]
  },
  {
   "cell_type": "markdown",
   "metadata": {},
   "source": [
    "This class takes each feature and scales it to the range 0 to 1. The minimum value is\n",
    "replaced with 0, the maximum with 1, and the other values somewhere in between.\n",
    "To apply our preprocessor, we run the transform function on it. While MinMaxScaler\n",
    "doesn't, some transformers need to be trained first in the same way that the classifiers\n",
    "do. We can combine these steps by running the fit_transform function instead:"
   ]
  },
  {
   "cell_type": "code",
   "execution_count": 32,
   "metadata": {
    "collapsed": true
   },
   "outputs": [],
   "source": [
    "X_transformed = MinMaxScaler().fit_transform(X)"
   ]
  },
  {
   "cell_type": "markdown",
   "metadata": {},
   "source": [
    "Here, X_transformed will have the same shape as X. However, each column will\n",
    "have a maximum of 1 and a minimum of 0.\n",
    "There are various other forms of normalizing in this way, which is effective for other\n",
    "applications and feature types:\n",
    "* Ensure the sum of the values for each sample equals to 1, using sklearn.\n",
    "preprocessing.Normalizer\n",
    "* Force each feature to have a zero mean and a variance of 1, using sklearn.\n",
    "preprocessing.StandardScaler, which is a commonly used starting point\n",
    "for normalization\n",
    "* Turn numerical features into binary features, where any value above\n",
    "a threshold is 1 and any below is 0, using sklearn.preprocessing.\n",
    "Binarizer ."
   ]
  },
  {
   "cell_type": "markdown",
   "metadata": {},
   "source": [
    "We can now create a workflow by combining the code from the previous sections,\n",
    "using the broken dataset previously calculated:\n"
   ]
  },
  {
   "cell_type": "code",
   "execution_count": 33,
   "metadata": {
    "collapsed": false
   },
   "outputs": [
    {
     "name": "stdout",
     "output_type": "stream",
     "text": [
      "The average accuracy for is 82.3%\n"
     ]
    }
   ],
   "source": [
    "X_transformed = MinMaxScaler().fit_transform(X_broken)\n",
    "estimator = KNeighborsClassifier()\n",
    "transformed_scores = cross_val_score(estimator, X_transformed, y,scoring='accuracy')\n",
    "print(\"The average accuracy for is {0:.1f}%\".format(np.mean(transformed_scores) * 100))"
   ]
  },
  {
   "cell_type": "markdown",
   "metadata": {},
   "source": [
    "This gives us back our score of 82.3 percent accuracy. The MinMaxScaler resulted in\n",
    "features of the same scale, meaning that no features overpowered others by simply\n",
    "being bigger values. While the Nearest Neighbor algorithm can be confused with\n",
    "larger features, some algorithms handle scale differences better. In contrast, some\n",
    "are much worse!\n",
    "\n",
    "### Pipelines\n",
    "As experiments grow, so does the complexity of the operations. We may split up\n",
    "our dataset, binarize features, perform feature-based scaling, perform sample-based\n",
    "scaling, and many more operations.\n",
    "Keeping track of all of these operations can get quite confusing and can result in\n",
    "being unable to replicate the result. Problems include forgetting a step, incorrectly\n",
    "applying a transformation, or adding a transformation that wasn't needed.\n",
    "Another issue is the order of the code. In the previous section, we created our\n",
    "X_transformed dataset and then created a new estimator for the cross validation.\n",
    "If we had multiple steps, we would need to track all of these changes to the dataset\n",
    "in the code.\n",
    "Pipelines are a construct that addresses these problems (and others, which we will\n",
    "see in the next chapter). Pipelines store the steps in your data mining workflow. They\n",
    "can take your raw data in, perform all the necessary transformations, and then create\n",
    "a prediction. This allows us to use pipelines in functions such as cross_val_score,\n",
    "where they expect an estimator. First, import the Pipeline object:"
   ]
  },
  {
   "cell_type": "code",
   "execution_count": 34,
   "metadata": {
    "collapsed": true
   },
   "outputs": [],
   "source": [
    "from sklearn.pipeline import Pipeline"
   ]
  },
  {
   "cell_type": "markdown",
   "metadata": {},
   "source": [
    "Pipelines take a list of steps as input, representing the chain of the data mining\n",
    "application. The last step needs to be an Estimator, while all previous steps are\n",
    "Transformers. The input dataset is altered by each Transformer, with the output of\n",
    "one step being the input of the next step. Finally, the samples are classified by the last\n",
    "step's estimator. In our pipeline, we have two steps:\n",
    "1. Use MinMaxScaler to scale the feature values from 0 to 1\n",
    "2. Use KNeighborsClassifier as the classification algorithms\n",
    "Each step is then represented by a tuple ('name', step). We can then create\n",
    "our pipeline:"
   ]
  },
  {
   "cell_type": "code",
   "execution_count": 35,
   "metadata": {
    "collapsed": true
   },
   "outputs": [],
   "source": [
    "scaling_pipeline = Pipeline([('scale', MinMaxScaler()),\n",
    "                             ('predict', KNeighborsClassifier())])"
   ]
  },
  {
   "cell_type": "markdown",
   "metadata": {},
   "source": [
    "The key here is the list of tuples. The first tuple is our scaling step and the second\n",
    "tuple is the predicting step. We give each step a name: the first we call scale and the\n",
    "second we call predict, but you can choose your own names. The second part of the\n",
    "tuple is the actual Transformer or estimator object.\n",
    "Running this pipeline is now very easy, using the cross validation code from before:"
   ]
  },
  {
   "cell_type": "code",
   "execution_count": 36,
   "metadata": {
    "collapsed": false
   },
   "outputs": [
    {
     "name": "stdout",
     "output_type": "stream",
     "text": [
      "The pipeline scored an average accuracy for is 82.3%\n"
     ]
    }
   ],
   "source": [
    "scores = cross_val_score(scaling_pipeline, X_broken, y, scoring='accuracy')\n",
    "print(\"The pipeline scored an average accuracy for is {0:.1f}%\".format(np.mean(transformed_scores) * 100))"
   ]
  },
  {
   "cell_type": "markdown",
   "metadata": {},
   "source": [
    "This gives us the same score as before (82.3 percent), which is expected, as we are\n",
    "effectively running the same steps.\n",
    "Setting\n",
    "up pipelines is a great way to ensure that the code complexity does not\n",
    "grow unmanageably."
   ]
  },
  {
   "cell_type": "markdown",
   "metadata": {},
   "source": [
    "<hr>\n",
    "### Notes:\n",
    "The right choice of k is crucial to find a good balance between over- and underfitting. We also have to make sure that we choose a distance metric that is appropriate for the features in the dataset. Often, while using the Euclidean distance measure, it is important to standardize the data so that each feature contributes equally to the distance. \n",
    "\n",
    "#### The curse of dimensionality\n",
    "It is important to mention that KNN is very susceptible to overfitting due to the curse of dimensionality. The curse of dimensionality describes the phenomenon where the feature\n",
    "space becomes increasingly sparse for an increasing number\n",
    "of dimensions of a fixed-size training dataset. Intuitively, we\n",
    "can think of even the closest neighbors being too far away in a\n",
    "high-dimensional space to give a good estimate.\n",
    "In models where regularization is not applicable such as decision trees and KNN, we can use feature selection and dimensionality reduction techniques to help us avoid the curse of dimensionality.\n",
    "\n",
    "#### Parametric versus nonparametric models\n",
    "Machine learning algorithms can be grouped into parametric and nonparametric models. Using parametric models, we estimate parameters from the training dataset to learn a function that can classify new data points without requiring the original training dataset anymore. Typical examples of parametric models are the perceptron, logistic regression, and the linear SVM. In contrast, nonparametric models can't be characterized by a fixed set of parameters, and the number of parameters grows with the training data. Two examples of nonparametric models that we have seen so far are the decision tree classifier/random forest and the kernel SVM.\n",
    "KNN belongs to a subcategory of nonparametric models that is described as instance-based learning. Models based on instance-based learning are characterized by memorizing the training dataset, and lazy learning is a special case of instance-based learning that is associated with no (zero) cost during the learning process\n",
    "_____\n",
    "\n",
    "### Summary\n",
    "In this chapter, we used several of scikit-learn's methods for building a\n",
    "standard workflow to run and evaluate data mining models. We introduced the\n",
    "Nearest Neighbors algorithm, which is already implemented in scikit-learn as an\n",
    "estimator. Using this class is quite easy; first, we call the fit function on our training\n",
    "data, and second, we use the predict function to predict the class of testing samples.\n",
    "We then looked at preprocessing by fixing poor feature scaling. This was done using\n",
    "a Transformer object and the MinMaxScaler class. These functions also have a\n",
    "fit method and then a transform, which takes a dataset as an input and returns a\n",
    "transformed dataset as an output."
   ]
  },
  {
   "cell_type": "markdown",
   "metadata": {},
   "source": [
    "___"
   ]
  }
 ],
 "metadata": {
  "kernelspec": {
   "display_name": "Python 3",
   "language": "python",
   "name": "python3"
  },
  "language_info": {
   "codemirror_mode": {
    "name": "ipython",
    "version": 3
   },
   "file_extension": ".py",
   "mimetype": "text/x-python",
   "name": "python",
   "nbconvert_exporter": "python",
   "pygments_lexer": "ipython3",
   "version": "3.5.2"
  }
 },
 "nbformat": 4,
 "nbformat_minor": 0
}
