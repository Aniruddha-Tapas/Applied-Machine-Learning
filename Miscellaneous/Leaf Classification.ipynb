{
 "cells": [
  {
   "cell_type": "markdown",
   "metadata": {},
   "source": [
    "# Leaf Classification\n",
    "______\n",
    "\n",
    "The dataset we would be considering in this example is the Leaf dataset which consists in a collection of shape and texture features extracted from digital images of leaf specimens originating from a total of 40 different plant species.\n",
    "\n",
    "It can be downloaded from : https://archive.ics.uci.edu/ml/datasets/Leaf\n",
    "\n",
    "Attribute Information:\n",
    "\n",
    "1. Class (Species) \n",
    "2. Specimen Number \n",
    "3. Eccentricity \n",
    "4. Aspect Ratio \n",
    "5. Elongation \n",
    "6. Solidity \n",
    "7. Stochastic Convexity \n",
    "8. Isoperimetric Factor \n",
    "9. Maximal Indentation Depth \n",
    "10. Lobedness \n",
    "11. Average Intensity \n",
    "12. Average Contrast \n",
    "13. Smoothness \n",
    "14. Third moment \n",
    "15. Uniformity \n",
    "16. Entropy"
   ]
  },
  {
   "cell_type": "code",
   "execution_count": 1,
   "metadata": {
    "collapsed": true
   },
   "outputs": [],
   "source": [
    "import os\n",
    "from sklearn.tree import DecisionTreeClassifier, export_graphviz\n",
    "import pandas as pd\n",
    "import numpy as np\n",
    "from sklearn.cross_validation import train_test_split\n",
    "from sklearn import cross_validation, metrics\n",
    "from sklearn.ensemble import RandomForestClassifier\n",
    "from sklearn.naive_bayes import BernoulliNB\n",
    "from sklearn.neighbors import KNeighborsClassifier\n",
    "from sklearn.svm import SVC\n",
    "from time import time\n",
    "from sklearn import preprocessing\n",
    "from sklearn.pipeline import Pipeline\n",
    "from sklearn.metrics import roc_auc_score , classification_report\n",
    "from sklearn.grid_search import GridSearchCV\n",
    "from sklearn.pipeline import Pipeline\n",
    "from sklearn.metrics import precision_score, recall_score, accuracy_score, classification_report\n"
   ]
  },
  {
   "cell_type": "code",
   "execution_count": 2,
   "metadata": {
    "collapsed": false
   },
   "outputs": [],
   "source": [
    "# read .csv from provided dataset\n",
    "csv_filename=\"leaf/leaf.csv\"\n",
    "\n",
    "# df=pd.read_csv(csv_filename,index_col=0)\n",
    "df=pd.read_csv(csv_filename,\n",
    "              names=[\"Class\", \"No\" , \"Eccentricity\" , \"Aspect-Ratio\" , \"Elongation\" , \"Solidity\",\n",
    "                     \"Stochastic-Convexity\", \"Isoperimetric-Factor\" , \"Max-Indentation-Depth\" ,\n",
    "                     \"Lobedness\" , \"Avg-Intensity\" , \"Avg-Contrast\" , \"Smoothness\" ,\n",
    "                     \"Third-Moment\" , \"Uniformity\" , \"Entropy\"])"
   ]
  },
  {
   "cell_type": "code",
   "execution_count": 3,
   "metadata": {
    "collapsed": false
   },
   "outputs": [
    {
     "data": {
      "text/html": [
       "<div>\n",
       "<table border=\"1\" class=\"dataframe\">\n",
       "  <thead>\n",
       "    <tr style=\"text-align: right;\">\n",
       "      <th></th>\n",
       "      <th>Class</th>\n",
       "      <th>No</th>\n",
       "      <th>Eccentricity</th>\n",
       "      <th>Aspect-Ratio</th>\n",
       "      <th>Elongation</th>\n",
       "      <th>Solidity</th>\n",
       "      <th>Stochastic-Convexity</th>\n",
       "      <th>Isoperimetric-Factor</th>\n",
       "      <th>Max-Indentation-Depth</th>\n",
       "      <th>Lobedness</th>\n",
       "      <th>Avg-Intensity</th>\n",
       "      <th>Avg-Contrast</th>\n",
       "      <th>Smoothness</th>\n",
       "      <th>Third-Moment</th>\n",
       "      <th>Uniformity</th>\n",
       "      <th>Entropy</th>\n",
       "    </tr>\n",
       "  </thead>\n",
       "  <tbody>\n",
       "    <tr>\n",
       "      <th>0</th>\n",
       "      <td>1</td>\n",
       "      <td>1</td>\n",
       "      <td>0.72694</td>\n",
       "      <td>1.4742</td>\n",
       "      <td>0.32396</td>\n",
       "      <td>0.98535</td>\n",
       "      <td>1.00000</td>\n",
       "      <td>0.83592</td>\n",
       "      <td>0.004657</td>\n",
       "      <td>0.003947</td>\n",
       "      <td>0.047790</td>\n",
       "      <td>0.127950</td>\n",
       "      <td>0.016108</td>\n",
       "      <td>0.005232</td>\n",
       "      <td>0.000275</td>\n",
       "      <td>1.17560</td>\n",
       "    </tr>\n",
       "    <tr>\n",
       "      <th>1</th>\n",
       "      <td>1</td>\n",
       "      <td>2</td>\n",
       "      <td>0.74173</td>\n",
       "      <td>1.5257</td>\n",
       "      <td>0.36116</td>\n",
       "      <td>0.98152</td>\n",
       "      <td>0.99825</td>\n",
       "      <td>0.79867</td>\n",
       "      <td>0.005242</td>\n",
       "      <td>0.005002</td>\n",
       "      <td>0.024160</td>\n",
       "      <td>0.090476</td>\n",
       "      <td>0.008119</td>\n",
       "      <td>0.002708</td>\n",
       "      <td>0.000075</td>\n",
       "      <td>0.69659</td>\n",
       "    </tr>\n",
       "    <tr>\n",
       "      <th>2</th>\n",
       "      <td>1</td>\n",
       "      <td>3</td>\n",
       "      <td>0.76722</td>\n",
       "      <td>1.5725</td>\n",
       "      <td>0.38998</td>\n",
       "      <td>0.97755</td>\n",
       "      <td>1.00000</td>\n",
       "      <td>0.80812</td>\n",
       "      <td>0.007457</td>\n",
       "      <td>0.010121</td>\n",
       "      <td>0.011897</td>\n",
       "      <td>0.057445</td>\n",
       "      <td>0.003289</td>\n",
       "      <td>0.000921</td>\n",
       "      <td>0.000038</td>\n",
       "      <td>0.44348</td>\n",
       "    </tr>\n",
       "    <tr>\n",
       "      <th>3</th>\n",
       "      <td>1</td>\n",
       "      <td>4</td>\n",
       "      <td>0.73797</td>\n",
       "      <td>1.4597</td>\n",
       "      <td>0.35376</td>\n",
       "      <td>0.97566</td>\n",
       "      <td>1.00000</td>\n",
       "      <td>0.81697</td>\n",
       "      <td>0.006877</td>\n",
       "      <td>0.008607</td>\n",
       "      <td>0.015950</td>\n",
       "      <td>0.065491</td>\n",
       "      <td>0.004271</td>\n",
       "      <td>0.001154</td>\n",
       "      <td>0.000066</td>\n",
       "      <td>0.58785</td>\n",
       "    </tr>\n",
       "    <tr>\n",
       "      <th>4</th>\n",
       "      <td>1</td>\n",
       "      <td>5</td>\n",
       "      <td>0.82301</td>\n",
       "      <td>1.7707</td>\n",
       "      <td>0.44462</td>\n",
       "      <td>0.97698</td>\n",
       "      <td>1.00000</td>\n",
       "      <td>0.75493</td>\n",
       "      <td>0.007428</td>\n",
       "      <td>0.010042</td>\n",
       "      <td>0.007938</td>\n",
       "      <td>0.045339</td>\n",
       "      <td>0.002051</td>\n",
       "      <td>0.000560</td>\n",
       "      <td>0.000024</td>\n",
       "      <td>0.34214</td>\n",
       "    </tr>\n",
       "  </tbody>\n",
       "</table>\n",
       "</div>"
      ],
      "text/plain": [
       "   Class  No  Eccentricity  Aspect-Ratio  Elongation  Solidity  \\\n",
       "0      1   1       0.72694        1.4742     0.32396   0.98535   \n",
       "1      1   2       0.74173        1.5257     0.36116   0.98152   \n",
       "2      1   3       0.76722        1.5725     0.38998   0.97755   \n",
       "3      1   4       0.73797        1.4597     0.35376   0.97566   \n",
       "4      1   5       0.82301        1.7707     0.44462   0.97698   \n",
       "\n",
       "   Stochastic-Convexity  Isoperimetric-Factor  Max-Indentation-Depth  \\\n",
       "0               1.00000               0.83592               0.004657   \n",
       "1               0.99825               0.79867               0.005242   \n",
       "2               1.00000               0.80812               0.007457   \n",
       "3               1.00000               0.81697               0.006877   \n",
       "4               1.00000               0.75493               0.007428   \n",
       "\n",
       "   Lobedness  Avg-Intensity  Avg-Contrast  Smoothness  Third-Moment  \\\n",
       "0   0.003947       0.047790      0.127950    0.016108      0.005232   \n",
       "1   0.005002       0.024160      0.090476    0.008119      0.002708   \n",
       "2   0.010121       0.011897      0.057445    0.003289      0.000921   \n",
       "3   0.008607       0.015950      0.065491    0.004271      0.001154   \n",
       "4   0.010042       0.007938      0.045339    0.002051      0.000560   \n",
       "\n",
       "   Uniformity  Entropy  \n",
       "0    0.000275  1.17560  \n",
       "1    0.000075  0.69659  \n",
       "2    0.000038  0.44348  \n",
       "3    0.000066  0.58785  \n",
       "4    0.000024  0.34214  "
      ]
     },
     "execution_count": 3,
     "metadata": {},
     "output_type": "execute_result"
    }
   ],
   "source": [
    "df.head()"
   ]
  },
  {
   "cell_type": "code",
   "execution_count": 4,
   "metadata": {
    "collapsed": false
   },
   "outputs": [
    {
     "data": {
      "text/html": [
       "<div>\n",
       "<table border=\"1\" class=\"dataframe\">\n",
       "  <thead>\n",
       "    <tr style=\"text-align: right;\">\n",
       "      <th></th>\n",
       "      <th>Class</th>\n",
       "      <th>No</th>\n",
       "      <th>Eccentricity</th>\n",
       "      <th>Aspect-Ratio</th>\n",
       "      <th>Elongation</th>\n",
       "      <th>Solidity</th>\n",
       "      <th>Stochastic-Convexity</th>\n",
       "      <th>Isoperimetric-Factor</th>\n",
       "      <th>Max-Indentation-Depth</th>\n",
       "      <th>Lobedness</th>\n",
       "      <th>Avg-Intensity</th>\n",
       "      <th>Avg-Contrast</th>\n",
       "      <th>Smoothness</th>\n",
       "      <th>Third-Moment</th>\n",
       "      <th>Uniformity</th>\n",
       "      <th>Entropy</th>\n",
       "    </tr>\n",
       "  </thead>\n",
       "  <tbody>\n",
       "    <tr>\n",
       "      <th>count</th>\n",
       "      <td>340.000000</td>\n",
       "      <td>340.000000</td>\n",
       "      <td>340.000000</td>\n",
       "      <td>340.000000</td>\n",
       "      <td>340.000000</td>\n",
       "      <td>340.000000</td>\n",
       "      <td>340.000000</td>\n",
       "      <td>340.000000</td>\n",
       "      <td>340.000000</td>\n",
       "      <td>340.000000</td>\n",
       "      <td>340.000000</td>\n",
       "      <td>340.000000</td>\n",
       "      <td>340.000000</td>\n",
       "      <td>340.000000</td>\n",
       "      <td>340.000000</td>\n",
       "      <td>340.000000</td>\n",
       "    </tr>\n",
       "    <tr>\n",
       "      <th>mean</th>\n",
       "      <td>18.544118</td>\n",
       "      <td>6.282353</td>\n",
       "      <td>0.719854</td>\n",
       "      <td>2.440210</td>\n",
       "      <td>0.513760</td>\n",
       "      <td>0.904158</td>\n",
       "      <td>0.943793</td>\n",
       "      <td>0.531234</td>\n",
       "      <td>0.037345</td>\n",
       "      <td>0.523845</td>\n",
       "      <td>0.051346</td>\n",
       "      <td>0.124535</td>\n",
       "      <td>0.017670</td>\n",
       "      <td>0.005928</td>\n",
       "      <td>0.000387</td>\n",
       "      <td>1.162630</td>\n",
       "    </tr>\n",
       "    <tr>\n",
       "      <th>std</th>\n",
       "      <td>11.152514</td>\n",
       "      <td>3.462779</td>\n",
       "      <td>0.208311</td>\n",
       "      <td>2.599043</td>\n",
       "      <td>0.195583</td>\n",
       "      <td>0.114639</td>\n",
       "      <td>0.115047</td>\n",
       "      <td>0.217532</td>\n",
       "      <td>0.038575</td>\n",
       "      <td>1.039639</td>\n",
       "      <td>0.035965</td>\n",
       "      <td>0.051860</td>\n",
       "      <td>0.013755</td>\n",
       "      <td>0.005294</td>\n",
       "      <td>0.000431</td>\n",
       "      <td>0.584854</td>\n",
       "    </tr>\n",
       "    <tr>\n",
       "      <th>min</th>\n",
       "      <td>1.000000</td>\n",
       "      <td>1.000000</td>\n",
       "      <td>0.117080</td>\n",
       "      <td>1.006600</td>\n",
       "      <td>0.107610</td>\n",
       "      <td>0.485490</td>\n",
       "      <td>0.396490</td>\n",
       "      <td>0.078376</td>\n",
       "      <td>0.002837</td>\n",
       "      <td>0.001464</td>\n",
       "      <td>0.005022</td>\n",
       "      <td>0.033415</td>\n",
       "      <td>0.001115</td>\n",
       "      <td>0.000229</td>\n",
       "      <td>0.000007</td>\n",
       "      <td>0.169400</td>\n",
       "    </tr>\n",
       "    <tr>\n",
       "      <th>25%</th>\n",
       "      <td>9.000000</td>\n",
       "      <td>3.000000</td>\n",
       "      <td>0.550622</td>\n",
       "      <td>1.211300</td>\n",
       "      <td>0.349623</td>\n",
       "      <td>0.890667</td>\n",
       "      <td>0.966230</td>\n",
       "      <td>0.346818</td>\n",
       "      <td>0.009521</td>\n",
       "      <td>0.016500</td>\n",
       "      <td>0.022843</td>\n",
       "      <td>0.083362</td>\n",
       "      <td>0.006901</td>\n",
       "      <td>0.002080</td>\n",
       "      <td>0.000102</td>\n",
       "      <td>0.718900</td>\n",
       "    </tr>\n",
       "    <tr>\n",
       "      <th>50%</th>\n",
       "      <td>15.000000</td>\n",
       "      <td>6.000000</td>\n",
       "      <td>0.763450</td>\n",
       "      <td>1.570750</td>\n",
       "      <td>0.501855</td>\n",
       "      <td>0.948130</td>\n",
       "      <td>0.992980</td>\n",
       "      <td>0.579160</td>\n",
       "      <td>0.023860</td>\n",
       "      <td>0.103615</td>\n",
       "      <td>0.042087</td>\n",
       "      <td>0.119375</td>\n",
       "      <td>0.014050</td>\n",
       "      <td>0.004447</td>\n",
       "      <td>0.000239</td>\n",
       "      <td>1.077450</td>\n",
       "    </tr>\n",
       "    <tr>\n",
       "      <th>75%</th>\n",
       "      <td>29.000000</td>\n",
       "      <td>9.000000</td>\n",
       "      <td>0.895097</td>\n",
       "      <td>2.343100</td>\n",
       "      <td>0.633373</td>\n",
       "      <td>0.976897</td>\n",
       "      <td>1.000000</td>\n",
       "      <td>0.700712</td>\n",
       "      <td>0.047834</td>\n",
       "      <td>0.416433</td>\n",
       "      <td>0.073046</td>\n",
       "      <td>0.163795</td>\n",
       "      <td>0.026127</td>\n",
       "      <td>0.008307</td>\n",
       "      <td>0.000516</td>\n",
       "      <td>1.554575</td>\n",
       "    </tr>\n",
       "    <tr>\n",
       "      <th>max</th>\n",
       "      <td>36.000000</td>\n",
       "      <td>16.000000</td>\n",
       "      <td>0.998710</td>\n",
       "      <td>19.038000</td>\n",
       "      <td>0.948340</td>\n",
       "      <td>0.993880</td>\n",
       "      <td>1.000000</td>\n",
       "      <td>0.858160</td>\n",
       "      <td>0.198980</td>\n",
       "      <td>7.206200</td>\n",
       "      <td>0.190670</td>\n",
       "      <td>0.280810</td>\n",
       "      <td>0.073089</td>\n",
       "      <td>0.029786</td>\n",
       "      <td>0.002936</td>\n",
       "      <td>2.708500</td>\n",
       "    </tr>\n",
       "  </tbody>\n",
       "</table>\n",
       "</div>"
      ],
      "text/plain": [
       "            Class          No  Eccentricity  Aspect-Ratio  Elongation  \\\n",
       "count  340.000000  340.000000    340.000000    340.000000  340.000000   \n",
       "mean    18.544118    6.282353      0.719854      2.440210    0.513760   \n",
       "std     11.152514    3.462779      0.208311      2.599043    0.195583   \n",
       "min      1.000000    1.000000      0.117080      1.006600    0.107610   \n",
       "25%      9.000000    3.000000      0.550622      1.211300    0.349623   \n",
       "50%     15.000000    6.000000      0.763450      1.570750    0.501855   \n",
       "75%     29.000000    9.000000      0.895097      2.343100    0.633373   \n",
       "max     36.000000   16.000000      0.998710     19.038000    0.948340   \n",
       "\n",
       "         Solidity  Stochastic-Convexity  Isoperimetric-Factor  \\\n",
       "count  340.000000            340.000000            340.000000   \n",
       "mean     0.904158              0.943793              0.531234   \n",
       "std      0.114639              0.115047              0.217532   \n",
       "min      0.485490              0.396490              0.078376   \n",
       "25%      0.890667              0.966230              0.346818   \n",
       "50%      0.948130              0.992980              0.579160   \n",
       "75%      0.976897              1.000000              0.700712   \n",
       "max      0.993880              1.000000              0.858160   \n",
       "\n",
       "       Max-Indentation-Depth   Lobedness  Avg-Intensity  Avg-Contrast  \\\n",
       "count             340.000000  340.000000     340.000000    340.000000   \n",
       "mean                0.037345    0.523845       0.051346      0.124535   \n",
       "std                 0.038575    1.039639       0.035965      0.051860   \n",
       "min                 0.002837    0.001464       0.005022      0.033415   \n",
       "25%                 0.009521    0.016500       0.022843      0.083362   \n",
       "50%                 0.023860    0.103615       0.042087      0.119375   \n",
       "75%                 0.047834    0.416433       0.073046      0.163795   \n",
       "max                 0.198980    7.206200       0.190670      0.280810   \n",
       "\n",
       "       Smoothness  Third-Moment  Uniformity     Entropy  \n",
       "count  340.000000    340.000000  340.000000  340.000000  \n",
       "mean     0.017670      0.005928    0.000387    1.162630  \n",
       "std      0.013755      0.005294    0.000431    0.584854  \n",
       "min      0.001115      0.000229    0.000007    0.169400  \n",
       "25%      0.006901      0.002080    0.000102    0.718900  \n",
       "50%      0.014050      0.004447    0.000239    1.077450  \n",
       "75%      0.026127      0.008307    0.000516    1.554575  \n",
       "max      0.073089      0.029786    0.002936    2.708500  "
      ]
     },
     "execution_count": 4,
     "metadata": {},
     "output_type": "execute_result"
    }
   ],
   "source": [
    "df.describe()"
   ]
  },
  {
   "cell_type": "code",
   "execution_count": 21,
   "metadata": {
    "collapsed": false
   },
   "outputs": [],
   "source": [
    "#Convert animal labels to numbers\n",
    "le = preprocessing.LabelEncoder()\n",
    "df['Class'] = le.fit_transform(df.Class)"
   ]
  },
  {
   "cell_type": "code",
   "execution_count": 8,
   "metadata": {
    "collapsed": false
   },
   "outputs": [
    {
     "data": {
      "text/plain": [
       "array([ 1,  2,  3,  4,  5,  6,  7,  8,  9, 10, 11, 12, 13, 14, 15, 22, 23,\n",
       "       24, 25, 26, 27, 28, 29, 30, 31, 32, 33, 34, 35, 36], dtype=int64)"
      ]
     },
     "execution_count": 8,
     "metadata": {},
     "output_type": "execute_result"
    }
   ],
   "source": [
    "df['Class'].unique()"
   ]
  },
  {
   "cell_type": "code",
   "execution_count": 9,
   "metadata": {
    "collapsed": true
   },
   "outputs": [],
   "source": [
    "features = list(df.columns)"
   ]
  },
  {
   "cell_type": "code",
   "execution_count": 10,
   "metadata": {
    "collapsed": false
   },
   "outputs": [],
   "source": [
    "features.remove('Class')"
   ]
  },
  {
   "cell_type": "code",
   "execution_count": 12,
   "metadata": {
    "collapsed": false
   },
   "outputs": [
    {
     "data": {
      "text/plain": [
       "(340, 16)"
      ]
     },
     "execution_count": 12,
     "metadata": {},
     "output_type": "execute_result"
    }
   ],
   "source": [
    "df.shape"
   ]
  },
  {
   "cell_type": "code",
   "execution_count": 29,
   "metadata": {
    "collapsed": true
   },
   "outputs": [],
   "source": [
    "for f in features:\n",
    "\n",
    "    #Get binarized columns\n",
    "    df[f] = pd.get_dummies(df[f])\n",
    " \n",
    "    # Build new array\n",
    "# train_data = pd.concat([hour, days, district], axis=1)\n",
    "# train_data['crime']=crime"
   ]
  },
  {
   "cell_type": "code",
   "execution_count": 30,
   "metadata": {
    "collapsed": false
   },
   "outputs": [
    {
     "data": {
      "text/html": [
       "<div>\n",
       "<table border=\"1\" class=\"dataframe\">\n",
       "  <thead>\n",
       "    <tr style=\"text-align: right;\">\n",
       "      <th></th>\n",
       "      <th>Buying</th>\n",
       "      <th>Maintenance</th>\n",
       "      <th>Doors</th>\n",
       "      <th>Persons</th>\n",
       "      <th>Lug-Boot</th>\n",
       "      <th>Safety</th>\n",
       "      <th>Class</th>\n",
       "    </tr>\n",
       "  </thead>\n",
       "  <tbody>\n",
       "    <tr>\n",
       "      <th>0</th>\n",
       "      <td>0.0</td>\n",
       "      <td>0.0</td>\n",
       "      <td>1.0</td>\n",
       "      <td>1.0</td>\n",
       "      <td>0.0</td>\n",
       "      <td>0.0</td>\n",
       "      <td>2</td>\n",
       "    </tr>\n",
       "    <tr>\n",
       "      <th>1</th>\n",
       "      <td>0.0</td>\n",
       "      <td>0.0</td>\n",
       "      <td>1.0</td>\n",
       "      <td>1.0</td>\n",
       "      <td>0.0</td>\n",
       "      <td>0.0</td>\n",
       "      <td>2</td>\n",
       "    </tr>\n",
       "    <tr>\n",
       "      <th>2</th>\n",
       "      <td>0.0</td>\n",
       "      <td>0.0</td>\n",
       "      <td>1.0</td>\n",
       "      <td>1.0</td>\n",
       "      <td>0.0</td>\n",
       "      <td>1.0</td>\n",
       "      <td>2</td>\n",
       "    </tr>\n",
       "    <tr>\n",
       "      <th>3</th>\n",
       "      <td>0.0</td>\n",
       "      <td>0.0</td>\n",
       "      <td>1.0</td>\n",
       "      <td>1.0</td>\n",
       "      <td>0.0</td>\n",
       "      <td>0.0</td>\n",
       "      <td>2</td>\n",
       "    </tr>\n",
       "    <tr>\n",
       "      <th>4</th>\n",
       "      <td>0.0</td>\n",
       "      <td>0.0</td>\n",
       "      <td>1.0</td>\n",
       "      <td>1.0</td>\n",
       "      <td>0.0</td>\n",
       "      <td>0.0</td>\n",
       "      <td>2</td>\n",
       "    </tr>\n",
       "  </tbody>\n",
       "</table>\n",
       "</div>"
      ],
      "text/plain": [
       "   Buying  Maintenance  Doors  Persons  Lug-Boot  Safety  Class\n",
       "0     0.0          0.0    1.0      1.0       0.0     0.0      2\n",
       "1     0.0          0.0    1.0      1.0       0.0     0.0      2\n",
       "2     0.0          0.0    1.0      1.0       0.0     1.0      2\n",
       "3     0.0          0.0    1.0      1.0       0.0     0.0      2\n",
       "4     0.0          0.0    1.0      1.0       0.0     0.0      2"
      ]
     },
     "execution_count": 30,
     "metadata": {},
     "output_type": "execute_result"
    }
   ],
   "source": [
    "df.head()"
   ]
  },
  {
   "cell_type": "code",
   "execution_count": 14,
   "metadata": {
    "collapsed": false
   },
   "outputs": [],
   "source": [
    "X = df[features]\n",
    "y = df['Class']"
   ]
  },
  {
   "cell_type": "code",
   "execution_count": 15,
   "metadata": {
    "collapsed": false
   },
   "outputs": [
    {
     "data": {
      "text/html": [
       "<div>\n",
       "<table border=\"1\" class=\"dataframe\">\n",
       "  <thead>\n",
       "    <tr style=\"text-align: right;\">\n",
       "      <th></th>\n",
       "      <th>No</th>\n",
       "      <th>Eccentricity</th>\n",
       "      <th>Aspect-Ratio</th>\n",
       "      <th>Elongation</th>\n",
       "      <th>Solidity</th>\n",
       "      <th>Stochastic-Convexity</th>\n",
       "      <th>Isoperimetric-Factor</th>\n",
       "      <th>Max-Indentation-Depth</th>\n",
       "      <th>Lobedness</th>\n",
       "      <th>Avg-Intensity</th>\n",
       "      <th>Avg-Contrast</th>\n",
       "      <th>Smoothness</th>\n",
       "      <th>Third-Moment</th>\n",
       "      <th>Uniformity</th>\n",
       "      <th>Entropy</th>\n",
       "    </tr>\n",
       "  </thead>\n",
       "  <tbody>\n",
       "    <tr>\n",
       "      <th>count</th>\n",
       "      <td>340.000000</td>\n",
       "      <td>340.000000</td>\n",
       "      <td>340.000000</td>\n",
       "      <td>340.000000</td>\n",
       "      <td>340.000000</td>\n",
       "      <td>340.000000</td>\n",
       "      <td>340.000000</td>\n",
       "      <td>340.000000</td>\n",
       "      <td>340.000000</td>\n",
       "      <td>340.000000</td>\n",
       "      <td>340.000000</td>\n",
       "      <td>340.000000</td>\n",
       "      <td>340.000000</td>\n",
       "      <td>340.000000</td>\n",
       "      <td>340.000000</td>\n",
       "    </tr>\n",
       "    <tr>\n",
       "      <th>mean</th>\n",
       "      <td>6.282353</td>\n",
       "      <td>0.719854</td>\n",
       "      <td>2.440210</td>\n",
       "      <td>0.513760</td>\n",
       "      <td>0.904158</td>\n",
       "      <td>0.943793</td>\n",
       "      <td>0.531234</td>\n",
       "      <td>0.037345</td>\n",
       "      <td>0.523845</td>\n",
       "      <td>0.051346</td>\n",
       "      <td>0.124535</td>\n",
       "      <td>0.017670</td>\n",
       "      <td>0.005928</td>\n",
       "      <td>0.000387</td>\n",
       "      <td>1.162630</td>\n",
       "    </tr>\n",
       "    <tr>\n",
       "      <th>std</th>\n",
       "      <td>3.462779</td>\n",
       "      <td>0.208311</td>\n",
       "      <td>2.599043</td>\n",
       "      <td>0.195583</td>\n",
       "      <td>0.114639</td>\n",
       "      <td>0.115047</td>\n",
       "      <td>0.217532</td>\n",
       "      <td>0.038575</td>\n",
       "      <td>1.039639</td>\n",
       "      <td>0.035965</td>\n",
       "      <td>0.051860</td>\n",
       "      <td>0.013755</td>\n",
       "      <td>0.005294</td>\n",
       "      <td>0.000431</td>\n",
       "      <td>0.584854</td>\n",
       "    </tr>\n",
       "    <tr>\n",
       "      <th>min</th>\n",
       "      <td>1.000000</td>\n",
       "      <td>0.117080</td>\n",
       "      <td>1.006600</td>\n",
       "      <td>0.107610</td>\n",
       "      <td>0.485490</td>\n",
       "      <td>0.396490</td>\n",
       "      <td>0.078376</td>\n",
       "      <td>0.002837</td>\n",
       "      <td>0.001464</td>\n",
       "      <td>0.005022</td>\n",
       "      <td>0.033415</td>\n",
       "      <td>0.001115</td>\n",
       "      <td>0.000229</td>\n",
       "      <td>0.000007</td>\n",
       "      <td>0.169400</td>\n",
       "    </tr>\n",
       "    <tr>\n",
       "      <th>25%</th>\n",
       "      <td>3.000000</td>\n",
       "      <td>0.550622</td>\n",
       "      <td>1.211300</td>\n",
       "      <td>0.349623</td>\n",
       "      <td>0.890667</td>\n",
       "      <td>0.966230</td>\n",
       "      <td>0.346818</td>\n",
       "      <td>0.009521</td>\n",
       "      <td>0.016500</td>\n",
       "      <td>0.022843</td>\n",
       "      <td>0.083362</td>\n",
       "      <td>0.006901</td>\n",
       "      <td>0.002080</td>\n",
       "      <td>0.000102</td>\n",
       "      <td>0.718900</td>\n",
       "    </tr>\n",
       "    <tr>\n",
       "      <th>50%</th>\n",
       "      <td>6.000000</td>\n",
       "      <td>0.763450</td>\n",
       "      <td>1.570750</td>\n",
       "      <td>0.501855</td>\n",
       "      <td>0.948130</td>\n",
       "      <td>0.992980</td>\n",
       "      <td>0.579160</td>\n",
       "      <td>0.023860</td>\n",
       "      <td>0.103615</td>\n",
       "      <td>0.042087</td>\n",
       "      <td>0.119375</td>\n",
       "      <td>0.014050</td>\n",
       "      <td>0.004447</td>\n",
       "      <td>0.000239</td>\n",
       "      <td>1.077450</td>\n",
       "    </tr>\n",
       "    <tr>\n",
       "      <th>75%</th>\n",
       "      <td>9.000000</td>\n",
       "      <td>0.895097</td>\n",
       "      <td>2.343100</td>\n",
       "      <td>0.633373</td>\n",
       "      <td>0.976897</td>\n",
       "      <td>1.000000</td>\n",
       "      <td>0.700712</td>\n",
       "      <td>0.047834</td>\n",
       "      <td>0.416433</td>\n",
       "      <td>0.073046</td>\n",
       "      <td>0.163795</td>\n",
       "      <td>0.026127</td>\n",
       "      <td>0.008307</td>\n",
       "      <td>0.000516</td>\n",
       "      <td>1.554575</td>\n",
       "    </tr>\n",
       "    <tr>\n",
       "      <th>max</th>\n",
       "      <td>16.000000</td>\n",
       "      <td>0.998710</td>\n",
       "      <td>19.038000</td>\n",
       "      <td>0.948340</td>\n",
       "      <td>0.993880</td>\n",
       "      <td>1.000000</td>\n",
       "      <td>0.858160</td>\n",
       "      <td>0.198980</td>\n",
       "      <td>7.206200</td>\n",
       "      <td>0.190670</td>\n",
       "      <td>0.280810</td>\n",
       "      <td>0.073089</td>\n",
       "      <td>0.029786</td>\n",
       "      <td>0.002936</td>\n",
       "      <td>2.708500</td>\n",
       "    </tr>\n",
       "  </tbody>\n",
       "</table>\n",
       "</div>"
      ],
      "text/plain": [
       "               No  Eccentricity  Aspect-Ratio  Elongation    Solidity  \\\n",
       "count  340.000000    340.000000    340.000000  340.000000  340.000000   \n",
       "mean     6.282353      0.719854      2.440210    0.513760    0.904158   \n",
       "std      3.462779      0.208311      2.599043    0.195583    0.114639   \n",
       "min      1.000000      0.117080      1.006600    0.107610    0.485490   \n",
       "25%      3.000000      0.550622      1.211300    0.349623    0.890667   \n",
       "50%      6.000000      0.763450      1.570750    0.501855    0.948130   \n",
       "75%      9.000000      0.895097      2.343100    0.633373    0.976897   \n",
       "max     16.000000      0.998710     19.038000    0.948340    0.993880   \n",
       "\n",
       "       Stochastic-Convexity  Isoperimetric-Factor  Max-Indentation-Depth  \\\n",
       "count            340.000000            340.000000             340.000000   \n",
       "mean               0.943793              0.531234               0.037345   \n",
       "std                0.115047              0.217532               0.038575   \n",
       "min                0.396490              0.078376               0.002837   \n",
       "25%                0.966230              0.346818               0.009521   \n",
       "50%                0.992980              0.579160               0.023860   \n",
       "75%                1.000000              0.700712               0.047834   \n",
       "max                1.000000              0.858160               0.198980   \n",
       "\n",
       "        Lobedness  Avg-Intensity  Avg-Contrast  Smoothness  Third-Moment  \\\n",
       "count  340.000000     340.000000    340.000000  340.000000    340.000000   \n",
       "mean     0.523845       0.051346      0.124535    0.017670      0.005928   \n",
       "std      1.039639       0.035965      0.051860    0.013755      0.005294   \n",
       "min      0.001464       0.005022      0.033415    0.001115      0.000229   \n",
       "25%      0.016500       0.022843      0.083362    0.006901      0.002080   \n",
       "50%      0.103615       0.042087      0.119375    0.014050      0.004447   \n",
       "75%      0.416433       0.073046      0.163795    0.026127      0.008307   \n",
       "max      7.206200       0.190670      0.280810    0.073089      0.029786   \n",
       "\n",
       "       Uniformity     Entropy  \n",
       "count  340.000000  340.000000  \n",
       "mean     0.000387    1.162630  \n",
       "std      0.000431    0.584854  \n",
       "min      0.000007    0.169400  \n",
       "25%      0.000102    0.718900  \n",
       "50%      0.000239    1.077450  \n",
       "75%      0.000516    1.554575  \n",
       "max      0.002936    2.708500  "
      ]
     },
     "execution_count": 15,
     "metadata": {},
     "output_type": "execute_result"
    }
   ],
   "source": [
    "X.describe()"
   ]
  },
  {
   "cell_type": "code",
   "execution_count": 16,
   "metadata": {
    "collapsed": true
   },
   "outputs": [],
   "source": [
    "# split dataset to 60% training and 40% testing\n",
    "X_train, X_test, y_train, y_test = cross_validation.train_test_split(X, y, test_size=0.4, random_state=0)"
   ]
  },
  {
   "cell_type": "code",
   "execution_count": 17,
   "metadata": {
    "collapsed": false
   },
   "outputs": [
    {
     "name": "stdout",
     "output_type": "stream",
     "text": [
      "(204, 15) (204L,)\n"
     ]
    }
   ],
   "source": [
    "print X_train.shape, y_train.shape"
   ]
  },
  {
   "cell_type": "markdown",
   "metadata": {},
   "source": [
    "### Feature importances with forests of trees\n",
    "\n",
    "This examples shows the use of forests of trees to evaluate the importance of features on an artificial classification task. The red bars are the feature importances of the forest, along with their inter-trees variability."
   ]
  },
  {
   "cell_type": "code",
   "execution_count": 18,
   "metadata": {
    "collapsed": false
   },
   "outputs": [
    {
     "name": "stdout",
     "output_type": "stream",
     "text": [
      "Feature ranking:\n",
      "1. feature 4 - Solidity (0.101565) \n",
      "2. feature 3 - Elongation (0.091025) \n",
      "3. feature 2 - Aspect-Ratio (0.088494) \n",
      "4. feature 6 - Isoperimetric-Factor (0.088481) \n",
      "5. feature 1 - Eccentricity (0.079418) \n",
      "6. feature 7 - Max-Indentation-Depth (0.069209) \n",
      "7. feature 8 - Lobedness (0.064789) \n",
      "8. feature 14 - Entropy (0.064162) \n",
      "9. feature 5 - Stochastic-Convexity (0.057478) \n",
      "10. feature 10 - Avg-Contrast (0.056595) \n",
      "11. feature 12 - Third-Moment (0.055509) \n",
      "12. feature 13 - Uniformity (0.053986) \n",
      "13. feature 11 - Smoothness (0.053312) \n",
      "14. feature 9 - Avg-Intensity (0.052884) \n",
      "15. feature 0 - No (0.023093) \n"
     ]
    },
    {
     "data": {
      "image/png": "[encoded data removed]",
      "text/plain": [
       "<matplotlib.figure.Figure at 0x9c6bf98>"
      ]
     },
     "metadata": {},
     "output_type": "display_data"
    }
   ],
   "source": [
    "%matplotlib inline\n",
    "import numpy as np\n",
    "import matplotlib.pyplot as plt\n",
    "\n",
    "from sklearn.ensemble import ExtraTreesClassifier\n",
    "\n",
    "# Build a classification task using 3 informative features\n",
    "\n",
    "# Build a forest and compute the feature importances\n",
    "forest = ExtraTreesClassifier(n_estimators=250,\n",
    "                              random_state=0)\n",
    "\n",
    "forest.fit(X, y)\n",
    "importances = forest.feature_importances_\n",
    "std = np.std([tree.feature_importances_ for tree in forest.estimators_],\n",
    "             axis=0)\n",
    "indices = np.argsort(importances)[::-1]\n",
    "\n",
    "# Print the feature ranking\n",
    "print(\"Feature ranking:\")\n",
    "\n",
    "for f in range(X.shape[1]):\n",
    "    print(\"%d. feature %d - %s (%f) \" % (f + 1, indices[f], features[indices[f]], importances[indices[f]]))\n",
    "\n",
    "# Plot the feature importances of the forest\n",
    "plt.figure(num=None, figsize=(14, 10), dpi=80, facecolor='w', edgecolor='k')\n",
    "plt.title(\"Feature importances\")\n",
    "plt.bar(range(X.shape[1]), importances[indices],\n",
    "       color=\"r\", yerr=std[indices], align=\"center\")\n",
    "plt.xticks(range(X.shape[1]), indices)\n",
    "plt.xlim([-1, X.shape[1]])\n",
    "plt.show()"
   ]
  },
  {
   "cell_type": "code",
   "execution_count": 19,
   "metadata": {
    "collapsed": false
   },
   "outputs": [
    {
     "data": {
      "text/plain": [
       "array([ 0.10156511,  0.09102479,  0.08849443,  0.08848106,  0.07941827])"
      ]
     },
     "execution_count": 19,
     "metadata": {},
     "output_type": "execute_result"
    }
   ],
   "source": [
    "importances[indices[:5]]"
   ]
  },
  {
   "cell_type": "code",
   "execution_count": 20,
   "metadata": {
    "collapsed": false,
    "scrolled": false
   },
   "outputs": [
    {
     "name": "stdout",
     "output_type": "stream",
     "text": [
      "1. feature 4 - Solidity (0.101565)\n",
      "2. feature 3 - Elongation (0.091025)\n",
      "3. feature 2 - Aspect-Ratio (0.088494)\n",
      "4. feature 6 - Isoperimetric-Factor (0.088481)\n",
      "5. feature 1 - Eccentricity (0.079418)\n"
     ]
    }
   ],
   "source": [
    "for f in range(5):\n",
    "    print(\"%d. feature %d - %s (%f)\" % (f + 1, indices[f], features[indices[f]] ,importances[indices[f]]))"
   ]
  },
  {
   "cell_type": "code",
   "execution_count": 21,
   "metadata": {
    "collapsed": true
   },
   "outputs": [],
   "source": [
    "best_features = []\n",
    "for i in indices[:5]:\n",
    "    best_features.append(features[i])"
   ]
  },
  {
   "cell_type": "code",
   "execution_count": 22,
   "metadata": {
    "collapsed": false
   },
   "outputs": [
    {
     "data": {
      "image/png": "[encoded data removed]",
      "text/plain": [
       "<matplotlib.figure.Figure at 0x8d5a7f0>"
      ]
     },
     "metadata": {},
     "output_type": "display_data"
    }
   ],
   "source": [
    "# Plot the top 5 feature importances of the forest\n",
    "plt.figure(num=None, figsize=(8, 6), dpi=80, facecolor='w', edgecolor='k')\n",
    "plt.title(\"Feature importances\")\n",
    "plt.bar(range(5), importances[indices][:5], \n",
    "       color=\"r\",  yerr=std[indices][:5], align=\"center\")\n",
    "plt.xticks(range(5), best_features)\n",
    "plt.xlim([-1, 5])\n",
    "plt.show()"
   ]
  },
  {
   "cell_type": "markdown",
   "metadata": {},
   "source": [
    "# Decision Tree accuracy and time elapsed caculation"
   ]
  },
  {
   "cell_type": "code",
   "execution_count": 23,
   "metadata": {
    "collapsed": false
   },
   "outputs": [
    {
     "name": "stdout",
     "output_type": "stream",
     "text": [
      "DecisionTree\n",
      "Acurracy:  0.389705882353\n",
      "time elapsed:  0.0139999389648\n"
     ]
    }
   ],
   "source": [
    "t0=time()\n",
    "print \"DecisionTree\"\n",
    "\n",
    "dt = DecisionTreeClassifier(min_samples_split=20,random_state=99)\n",
    "# dt = DecisionTreeClassifier(min_samples_split=20,max_depth=5,random_state=99)\n",
    "\n",
    "clf_dt=dt.fit(X_train,y_train)\n",
    "\n",
    "print \"Acurracy: \", clf_dt.score(X_test,y_test)\n",
    "t1=time()\n",
    "print \"time elapsed: \", t1-t0"
   ]
  },
  {
   "cell_type": "markdown",
   "metadata": {},
   "source": [
    "## cross validation for DT"
   ]
  },
  {
   "cell_type": "code",
   "execution_count": 24,
   "metadata": {
    "collapsed": false,
    "scrolled": true
   },
   "outputs": [
    {
     "name": "stdout",
     "output_type": "stream",
     "text": [
      "cross result========\n",
      "[ 0.45528455  0.38596491  0.49514563]\n",
      "0.445465032065\n",
      "time elapsed:  0.121000051498\n",
      "\n",
      "\n"
     ]
    }
   ],
   "source": [
    "tt0=time()\n",
    "print \"cross result========\"\n",
    "scores = cross_validation.cross_val_score(dt, X, y, cv=3)\n",
    "print scores\n",
    "print scores.mean()\n",
    "tt1=time()\n",
    "print \"time elapsed: \", tt1-tt0\n",
    "print \"\\n\""
   ]
  },
  {
   "cell_type": "markdown",
   "metadata": {
    "collapsed": true
   },
   "source": [
    "### Tuning our hyperparameters using GridSearch"
   ]
  },
  {
   "cell_type": "code",
   "execution_count": 25,
   "metadata": {
    "collapsed": false
   },
   "outputs": [
    {
     "name": "stderr",
     "output_type": "stream",
     "text": [
      "[Parallel(n_jobs=-1)]: Done  34 tasks      | elapsed:   17.1s\n",
      "[Parallel(n_jobs=-1)]: Done  81 out of  81 | elapsed:   17.5s finished\n"
     ]
    },
    {
     "name": "stdout",
     "output_type": "stream",
     "text": [
      "Fitting 3 folds for each of 27 candidates, totalling 81 fits\n",
      "Best score: 0.551\n",
      "Best parameters set:\n",
      "\tclf__max_depth: 25\n",
      "\tclf__min_samples_leaf: 3\n",
      "\tclf__min_samples_split: 5\n",
      "             precision    recall  f1-score   support\n",
      "\n",
      "          1       0.67      0.40      0.50         5\n",
      "          2       0.33      0.40      0.36         5\n",
      "          3       0.40      0.50      0.44         4\n",
      "          4       0.50      0.33      0.40         3\n",
      "          5       0.43      1.00      0.60         3\n",
      "          6       0.40      0.40      0.40         5\n",
      "          7       0.00      0.00      0.00         6\n",
      "          8       1.00      0.50      0.67         4\n",
      "          9       0.50      0.40      0.44         5\n",
      "         10       1.00      1.00      1.00         6\n",
      "         11       1.00      0.75      0.86         4\n",
      "         12       0.80      0.67      0.73         6\n",
      "         13       0.46      0.75      0.57         8\n",
      "         14       0.80      0.67      0.73         6\n",
      "         15       1.00      0.40      0.57         5\n",
      "         22       0.40      0.40      0.40         5\n",
      "         23       0.67      1.00      0.80         2\n",
      "         24       1.00      0.29      0.44         7\n",
      "         25       0.40      1.00      0.57         2\n",
      "         26       0.67      0.33      0.44         6\n",
      "         27       0.56      0.71      0.63         7\n",
      "         28       1.00      1.00      1.00         3\n",
      "         29       0.67      0.67      0.67         3\n",
      "         30       0.44      0.80      0.57         5\n",
      "         31       0.80      0.80      0.80         5\n",
      "         32       0.67      0.50      0.57         4\n",
      "         33       0.60      0.75      0.67         4\n",
      "         34       0.20      0.50      0.29         2\n",
      "         35       1.00      0.67      0.80         3\n",
      "         36       0.50      1.00      0.67         3\n",
      "\n",
      "avg / total       0.64      0.59      0.58       136\n",
      "\n"
     ]
    },
    {
     "name": "stderr",
     "output_type": "stream",
     "text": [
      "C:\\Miniconda2\\lib\\site-packages\\sklearn\\metrics\\classification.py:1074: UndefinedMetricWarning: Precision and F-score are ill-defined and being set to 0.0 in labels with no predicted samples.\n",
      "  'precision', 'predicted', average, warn_for)\n"
     ]
    }
   ],
   "source": [
    "from sklearn.metrics import classification_report\n",
    "\n",
    "pipeline = Pipeline([\n",
    "    ('clf', DecisionTreeClassifier(criterion='entropy'))\n",
    "])\n",
    "\n",
    "parameters = {\n",
    "    'clf__max_depth': (5, 25 , 50),\n",
    "    'clf__min_samples_split': (1, 5, 10),\n",
    "    'clf__min_samples_leaf': (1, 2, 3)\n",
    "}\n",
    "\n",
    "grid_search = GridSearchCV(pipeline, parameters, n_jobs=-1, verbose=1, scoring='f1')\n",
    "grid_search.fit(X_train, y_train)\n",
    "\n",
    "print 'Best score: %0.3f' % grid_search.best_score_\n",
    "print 'Best parameters set:'\n",
    "\n",
    "best_parameters = grid_search.best_estimator_.get_params()\n",
    "for param_name in sorted(parameters.keys()):\n",
    "    print '\\t%s: %r' % (param_name, best_parameters[param_name])\n",
    "\n",
    "predictions = grid_search.predict(X_test)\n",
    "\n",
    "print classification_report(y_test, predictions)"
   ]
  },
  {
   "cell_type": "markdown",
   "metadata": {},
   "source": [
    "# Random Forest accuracy and time elapsed caculation"
   ]
  },
  {
   "cell_type": "code",
   "execution_count": 26,
   "metadata": {
    "collapsed": false
   },
   "outputs": [
    {
     "name": "stdout",
     "output_type": "stream",
     "text": [
      "RandomForest\n",
      "Acurracy:  0.683823529412\n",
      "time elapsed:  1.16700005531\n"
     ]
    }
   ],
   "source": [
    "t2=time()\n",
    "print \"RandomForest\"\n",
    "rf = RandomForestClassifier(n_estimators=100,n_jobs=-1)\n",
    "clf_rf = rf.fit(X_train,y_train)\n",
    "print \"Acurracy: \", clf_rf.score(X_test,y_test)\n",
    "t3=time()\n",
    "print \"time elapsed: \", t3-t2"
   ]
  },
  {
   "cell_type": "markdown",
   "metadata": {},
   "source": [
    "## cross validation for RF"
   ]
  },
  {
   "cell_type": "code",
   "execution_count": 27,
   "metadata": {
    "collapsed": false
   },
   "outputs": [
    {
     "name": "stdout",
     "output_type": "stream",
     "text": [
      "cross result========\n",
      "[ 0.66666667  0.79824561  0.76699029]\n",
      "0.743967523988\n",
      "time elapsed:  3.51099991798\n",
      "\n",
      "\n"
     ]
    }
   ],
   "source": [
    "tt2=time()\n",
    "print \"cross result========\"\n",
    "scores = cross_validation.cross_val_score(rf, X, y, cv=3)\n",
    "print scores\n",
    "print scores.mean()\n",
    "tt3=time()\n",
    "print \"time elapsed: \", tt3-tt2\n",
    "print \"\\n\"\n"
   ]
  },
  {
   "cell_type": "markdown",
   "metadata": {},
   "source": [
    "### Tuning Models using GridSearch"
   ]
  },
  {
   "cell_type": "code",
   "execution_count": 28,
   "metadata": {
    "collapsed": false
   },
   "outputs": [
    {
     "name": "stderr",
     "output_type": "stream",
     "text": [
      "[Parallel(n_jobs=-1)]: Done  34 tasks      | elapsed:   19.3s\n",
      "[Parallel(n_jobs=-1)]: Done 184 tasks      | elapsed:   29.0s\n",
      "[Parallel(n_jobs=-1)]: Done 324 out of 324 | elapsed:   37.8s finished\n"
     ]
    },
    {
     "name": "stdout",
     "output_type": "stream",
     "text": [
      "Fitting 3 folds for each of 108 candidates, totalling 324 fits\n",
      "Best score: 0.716\n",
      "Best parameters set:\n",
      "\tclf__max_depth: 50\n",
      "\tclf__min_samples_leaf: 1\n",
      "\tclf__min_samples_split: 1\n",
      "\tclf__n_estimators: 50\n",
      "Accuracy: 0.698529411765\n",
      "             precision    recall  f1-score   support\n",
      "\n",
      "          1       1.00      0.80      0.89         5\n",
      "          2       0.67      0.40      0.50         5\n",
      "          3       1.00      0.50      0.67         4\n",
      "          4       0.67      0.67      0.67         3\n",
      "          5       0.60      1.00      0.75         3\n",
      "          6       1.00      0.60      0.75         5\n",
      "          7       1.00      0.50      0.67         6\n",
      "          8       1.00      1.00      1.00         4\n",
      "          9       0.38      0.60      0.46         5\n",
      "         10       0.71      0.83      0.77         6\n",
      "         11       0.67      1.00      0.80         4\n",
      "         12       0.55      1.00      0.71         6\n",
      "         13       0.78      0.88      0.82         8\n",
      "         14       1.00      0.50      0.67         6\n",
      "         15       1.00      1.00      1.00         5\n",
      "         22       0.33      0.20      0.25         5\n",
      "         23       0.67      1.00      0.80         2\n",
      "         24       1.00      0.43      0.60         7\n",
      "         25       0.67      1.00      0.80         2\n",
      "         26       0.67      0.67      0.67         6\n",
      "         27       0.67      0.57      0.62         7\n",
      "         28       0.33      0.33      0.33         3\n",
      "         29       0.75      1.00      0.86         3\n",
      "         30       0.80      0.80      0.80         5\n",
      "         31       0.75      0.60      0.67         5\n",
      "         32       0.43      0.75      0.55         4\n",
      "         33       0.60      0.75      0.67         4\n",
      "         34       0.33      0.50      0.40         2\n",
      "         35       1.00      0.67      0.80         3\n",
      "         36       1.00      1.00      1.00         3\n",
      "\n",
      "avg / total       0.75      0.70      0.69       136\n",
      "\n"
     ]
    }
   ],
   "source": [
    "pipeline2 = Pipeline([\n",
    "('clf', RandomForestClassifier(criterion='entropy'))\n",
    "])\n",
    "\n",
    "parameters = {\n",
    "    'clf__n_estimators': (5, 25, 50, 100),\n",
    "    'clf__max_depth': (5, 25 , 50),\n",
    "    'clf__min_samples_split': (1, 5, 10),\n",
    "    'clf__min_samples_leaf': (1, 2, 3)\n",
    "}\n",
    "\n",
    "grid_search = GridSearchCV(pipeline2, parameters, n_jobs=-1, verbose=1, scoring='accuracy', cv=3)\n",
    "\n",
    "grid_search.fit(X_train, y_train)\n",
    "\n",
    "print 'Best score: %0.3f' % grid_search.best_score_\n",
    "\n",
    "print 'Best parameters set:'\n",
    "best_parameters = grid_search.best_estimator_.get_params()\n",
    "\n",
    "for param_name in sorted(parameters.keys()):\n",
    "    print '\\t%s: %r' % (param_name, best_parameters[param_name])\n",
    "\n",
    "predictions = grid_search.predict(X_test)\n",
    "print 'Accuracy:', accuracy_score(y_test, predictions)\n",
    "print classification_report(y_test, predictions)\n",
    "    "
   ]
  },
  {
   "cell_type": "markdown",
   "metadata": {},
   "source": [
    "# Naive Bayes accuracy and time elapsed caculation\n"
   ]
  },
  {
   "cell_type": "code",
   "execution_count": 29,
   "metadata": {
    "collapsed": false
   },
   "outputs": [
    {
     "name": "stdout",
     "output_type": "stream",
     "text": [
      "NaiveBayes\n",
      "Acurracy:  0.0294117647059\n",
      "time elapsed:  0.018000125885\n"
     ]
    }
   ],
   "source": [
    "t4=time()\n",
    "print \"NaiveBayes\"\n",
    "nb = BernoulliNB()\n",
    "clf_nb=nb.fit(X_train,y_train)\n",
    "print \"Acurracy: \", clf_nb.score(X_test,y_test)\n",
    "t5=time()\n",
    "print \"time elapsed: \", t5-t4"
   ]
  },
  {
   "cell_type": "markdown",
   "metadata": {},
   "source": [
    "## cross-validation for NB"
   ]
  },
  {
   "cell_type": "code",
   "execution_count": 30,
   "metadata": {
    "collapsed": false
   },
   "outputs": [
    {
     "name": "stdout",
     "output_type": "stream",
     "text": [
      "cross result========\n",
      "[ 0.04878049  0.04385965  0.04854369]\n",
      "0.047061275416\n",
      "time elapsed:  0.0650000572205\n",
      "\n",
      "\n"
     ]
    }
   ],
   "source": [
    "tt4=time()\n",
    "print \"cross result========\"\n",
    "scores = cross_validation.cross_val_score(nb, X,y, cv=3)\n",
    "print scores\n",
    "print scores.mean()\n",
    "tt5=time()\n",
    "print \"time elapsed: \", tt5-tt4\n",
    "print \"\\n\""
   ]
  },
  {
   "cell_type": "markdown",
   "metadata": {},
   "source": [
    "# KNN accuracy and time elapsed caculation"
   ]
  },
  {
   "cell_type": "code",
   "execution_count": 31,
   "metadata": {
    "collapsed": false
   },
   "outputs": [
    {
     "name": "stdout",
     "output_type": "stream",
     "text": [
      "KNN\n",
      "Acurracy:  0.0955882352941\n",
      "time elapsed:  0.00799989700317\n"
     ]
    }
   ],
   "source": [
    "t6=time()\n",
    "print \"KNN\"\n",
    "# knn = KNeighborsClassifier(n_neighbors=3)\n",
    "knn = KNeighborsClassifier(n_neighbors=3)\n",
    "clf_knn=knn.fit(X_train, y_train)\n",
    "print \"Acurracy: \", clf_knn.score(X_test,y_test) \n",
    "t7=time()\n",
    "print \"time elapsed: \", t7-t6"
   ]
  },
  {
   "cell_type": "markdown",
   "metadata": {},
   "source": [
    "## cross validation for KNN"
   ]
  },
  {
   "cell_type": "code",
   "execution_count": 32,
   "metadata": {
    "collapsed": false
   },
   "outputs": [
    {
     "name": "stdout",
     "output_type": "stream",
     "text": [
      "cross result========\n",
      "[ 0.1686747   0.13513514  0.07692308  0.16666667  0.15517241]\n",
      "0.140514398263\n",
      "time elapsed:  0.0729999542236\n",
      "\n",
      "\n"
     ]
    }
   ],
   "source": [
    "tt6=time()\n",
    "print \"cross result========\"\n",
    "scores = cross_validation.cross_val_score(knn, X,y, cv=5)\n",
    "print scores\n",
    "print scores.mean()\n",
    "tt7=time()\n",
    "print \"time elapsed: \", tt7-tt6\n",
    "print \"\\n\""
   ]
  },
  {
   "cell_type": "markdown",
   "metadata": {},
   "source": [
    "### Fine tuning the model using GridSearch"
   ]
  },
  {
   "cell_type": "code",
   "execution_count": 33,
   "metadata": {
    "collapsed": false
   },
   "outputs": [
    {
     "name": "stdout",
     "output_type": "stream",
     "text": [
      "Fitting 3 folds for each of 2 candidates, totalling 6 fits\n",
      "Best score: 0.186\n",
      "Best parameters set:\n",
      "\tn_neighbors: 1\n",
      "             precision    recall  f1-score   support\n",
      "\n",
      "          1       0.00      0.00      0.00         5\n",
      "          2       0.00      0.00      0.00         5\n",
      "          3       0.00      0.00      0.00         4\n",
      "          4       0.00      0.00      0.00         3\n",
      "          5       0.00      0.00      0.00         3\n",
      "          6       0.50      0.20      0.29         5\n",
      "          7       0.00      0.00      0.00         6\n",
      "          8       1.00      1.00      1.00         4\n",
      "          9       0.00      0.00      0.00         5\n",
      "         10       0.00      0.00      0.00         6\n",
      "         11       0.50      0.75      0.60         4\n",
      "         12       0.00      0.00      0.00         6\n",
      "         13       0.00      0.00      0.00         8\n",
      "         14       0.00      0.00      0.00         6\n",
      "         15       0.50      0.20      0.29         5\n",
      "         22       0.00      0.00      0.00         5\n",
      "         23       0.00      0.00      0.00         2\n",
      "         24       0.00      0.00      0.00         7\n",
      "         25       0.00      0.00      0.00         2\n",
      "         26       0.00      0.00      0.00         6\n",
      "         27       0.00      0.00      0.00         7\n",
      "         28       0.00      0.00      0.00         3\n",
      "         29       0.00      0.00      0.00         3\n",
      "         30       0.00      0.00      0.00         5\n",
      "         31       1.00      0.40      0.57         5\n",
      "         32       0.00      0.00      0.00         4\n",
      "         33       0.00      0.00      0.00         4\n",
      "         34       0.40      1.00      0.57         2\n",
      "         35       0.00      0.00      0.00         3\n",
      "         36       0.00      0.00      0.00         3\n",
      "\n",
      "avg / total       0.12      0.10      0.10       136\n",
      "\n"
     ]
    },
    {
     "name": "stderr",
     "output_type": "stream",
     "text": [
      "[Parallel(n_jobs=-1)]: Done   6 out of   6 | elapsed:   13.1s finished\n"
     ]
    }
   ],
   "source": [
    "from sklearn.svm import SVC\n",
    "from sklearn.cross_validation import cross_val_score\n",
    "from sklearn.pipeline import Pipeline\n",
    "from sklearn import grid_search\n",
    "\n",
    "knn = KNeighborsClassifier()\n",
    "\n",
    "parameters = {'n_neighbors':[1,10]}\n",
    "\n",
    "grid = grid_search.GridSearchCV(knn, parameters, n_jobs=-1, verbose=1, scoring='accuracy')\n",
    "\n",
    "\n",
    "grid.fit(X_train, y_train)\n",
    "\n",
    "print 'Best score: %0.3f' % grid.best_score_\n",
    "\n",
    "print 'Best parameters set:'\n",
    "best_parameters = grid.best_estimator_.get_params()\n",
    "\n",
    "for param_name in sorted(parameters.keys()):\n",
    "    print '\\t%s: %r' % (param_name, best_parameters[param_name])\n",
    "    \n",
    "predictions = grid.predict(X_test)\n",
    "print classification_report(y_test, predictions)"
   ]
  },
  {
   "cell_type": "markdown",
   "metadata": {},
   "source": [
    "# SVM accuracy and time elapsed caculation"
   ]
  },
  {
   "cell_type": "code",
   "execution_count": 34,
   "metadata": {
    "collapsed": false
   },
   "outputs": [
    {
     "name": "stdout",
     "output_type": "stream",
     "text": [
      "SVM\n",
      "Acurracy:  0.132352941176\n",
      "time elapsed:  0.0260000228882\n"
     ]
    }
   ],
   "source": [
    "t7=time()\n",
    "print \"SVM\"\n",
    "\n",
    "svc = SVC()\n",
    "clf_svc=svc.fit(X_train, y_train)\n",
    "print \"Acurracy: \", clf_svc.score(X_test,y_test) \n",
    "t8=time()\n",
    "print \"time elapsed: \", t8-t7"
   ]
  },
  {
   "cell_type": "markdown",
   "metadata": {},
   "source": [
    "## cross validation for SVM"
   ]
  },
  {
   "cell_type": "code",
   "execution_count": 35,
   "metadata": {
    "collapsed": false
   },
   "outputs": [
    {
     "name": "stdout",
     "output_type": "stream",
     "text": [
      "cross result========\n",
      "[ 0.18072289  0.2027027   0.24615385  0.21666667  0.15517241]\n",
      "0.200283704177\n",
      "time elapsed:  34.7860000134\n",
      "\n",
      "\n"
     ]
    }
   ],
   "source": [
    "tt7=time()\n",
    "print \"cross result========\"\n",
    "scores = cross_validation.cross_val_score(svc,X,y, cv=5)\n",
    "print scores\n",
    "print scores.mean()\n",
    "tt8=time()\n",
    "print \"time elapsed: \", tt7-tt6\n",
    "print \"\\n\""
   ]
  },
  {
   "cell_type": "code",
   "execution_count": 36,
   "metadata": {
    "collapsed": false
   },
   "outputs": [
    {
     "name": "stdout",
     "output_type": "stream",
     "text": [
      "Fitting 3 folds for each of 4 candidates, totalling 12 fits\n",
      "Best score: 0.515\n",
      "Best parameters set:\n",
      "\tC: 10\n",
      "\tkernel: 'linear'\n",
      "             precision    recall  f1-score   support\n",
      "\n",
      "          1       0.62      1.00      0.77         5\n",
      "          2       0.50      0.20      0.29         5\n",
      "          3       1.00      0.75      0.86         4\n",
      "          4       0.20      0.33      0.25         3\n",
      "          5       0.38      1.00      0.55         3\n",
      "          6       0.57      0.80      0.67         5\n",
      "          7       0.62      0.83      0.71         6\n",
      "          8       1.00      1.00      1.00         4\n",
      "          9       0.60      0.60      0.60         5\n",
      "         10       1.00      0.67      0.80         6\n",
      "         11       0.75      0.75      0.75         4\n",
      "         12       0.33      0.17      0.22         6\n",
      "         13       0.67      0.25      0.36         8\n",
      "         14       0.20      0.17      0.18         6\n",
      "         15       0.71      1.00      0.83         5\n",
      "         22       1.00      0.20      0.33         5\n",
      "         23       1.00      1.00      1.00         2\n",
      "         24       0.50      0.29      0.36         7\n",
      "         25       0.50      0.50      0.50         2\n",
      "         26       0.22      0.33      0.27         6\n",
      "         27       0.75      0.43      0.55         7\n",
      "         28       0.50      0.33      0.40         3\n",
      "         29       1.00      0.67      0.80         3\n",
      "         30       0.67      0.80      0.73         5\n",
      "         31       0.80      0.80      0.80         5\n",
      "         32       0.40      0.50      0.44         4\n",
      "         33       0.20      0.50      0.29         4\n",
      "         34       0.50      0.50      0.50         2\n",
      "         35       0.00      0.00      0.00         3\n",
      "         36       1.00      0.33      0.50         3\n",
      "\n",
      "avg / total       0.61      0.54      0.53       136\n",
      "\n"
     ]
    },
    {
     "name": "stderr",
     "output_type": "stream",
     "text": [
      "[Parallel(n_jobs=-1)]: Done  12 out of  12 | elapsed:   18.0s finished\n"
     ]
    }
   ],
   "source": [
    "from sklearn.svm import SVC\n",
    "from sklearn.cross_validation import cross_val_score\n",
    "from sklearn.pipeline import Pipeline\n",
    "from sklearn import grid_search\n",
    "\n",
    "svc = SVC()\n",
    "\n",
    "parameters = {'kernel':('linear', 'rbf'), 'C':[1, 10]}\n",
    "\n",
    "grid = grid_search.GridSearchCV(svc, parameters, n_jobs=-1, verbose=1, scoring='accuracy')\n",
    "\n",
    "\n",
    "grid.fit(X_train, y_train)\n",
    "\n",
    "print 'Best score: %0.3f' % grid.best_score_\n",
    "\n",
    "print 'Best parameters set:'\n",
    "best_parameters = grid.best_estimator_.get_params()\n",
    "\n",
    "for param_name in sorted(parameters.keys()):\n",
    "    print '\\t%s: %r' % (param_name, best_parameters[param_name])\n",
    "    \n",
    "predictions = grid.predict(X_test)\n",
    "print classification_report(y_test, predictions)"
   ]
  },
  {
   "cell_type": "code",
   "execution_count": 37,
   "metadata": {
    "collapsed": false
   },
   "outputs": [
    {
     "name": "stderr",
     "output_type": "stream",
     "text": [
      "[Parallel(n_jobs=-1)]: Done  34 tasks      | elapsed:   18.2s\n",
      "[Parallel(n_jobs=-1)]: Done  90 out of  90 | elapsed:   19.0s finished\n"
     ]
    },
    {
     "name": "stdout",
     "output_type": "stream",
     "text": [
      "Fitting 3 folds for each of 30 candidates, totalling 90 fits\n",
      "Best score: 0.525\n",
      "Best parameters set:\n",
      "\tclf__C: 30\n",
      "\tclf__gamma: 0.01\n",
      "             precision    recall  f1-score   support\n",
      "\n",
      "          1       0.71      1.00      0.83         5\n",
      "          2       0.50      0.20      0.29         5\n",
      "          3       1.00      0.75      0.86         4\n",
      "          4       0.17      0.33      0.22         3\n",
      "          5       0.43      1.00      0.60         3\n",
      "          6       0.57      0.80      0.67         5\n",
      "          7       0.83      0.83      0.83         6\n",
      "          8       1.00      1.00      1.00         4\n",
      "          9       0.33      0.40      0.36         5\n",
      "         10       0.80      0.67      0.73         6\n",
      "         11       0.75      0.75      0.75         4\n",
      "         12       0.20      0.17      0.18         6\n",
      "         13       0.67      0.25      0.36         8\n",
      "         14       0.33      0.17      0.22         6\n",
      "         15       0.67      0.80      0.73         5\n",
      "         22       1.00      0.20      0.33         5\n",
      "         23       1.00      1.00      1.00         2\n",
      "         24       0.67      0.29      0.40         7\n",
      "         25       0.50      0.50      0.50         2\n",
      "         26       0.25      0.33      0.29         6\n",
      "         27       0.67      0.57      0.62         7\n",
      "         28       0.50      0.33      0.40         3\n",
      "         29       1.00      0.67      0.80         3\n",
      "         30       0.67      0.80      0.73         5\n",
      "         31       1.00      1.00      1.00         5\n",
      "         32       0.50      0.75      0.60         4\n",
      "         33       0.18      0.50      0.27         4\n",
      "         34       1.00      1.00      1.00         2\n",
      "         35       0.00      0.00      0.00         3\n",
      "         36       0.50      0.33      0.40         3\n",
      "\n",
      "avg / total       0.61      0.55      0.55       136\n",
      "\n"
     ]
    }
   ],
   "source": [
    "pipeline = Pipeline([\n",
    "    ('clf', SVC(kernel='linear', gamma=0.01, C=10))\n",
    "])\n",
    "\n",
    "parameters = {\n",
    "    'clf__gamma': (0.01, 0.03, 0.1, 0.3, 1),\n",
    "    'clf__C': (0.1, 0.3, 1, 3, 10, 30),\n",
    "}\n",
    "\n",
    "grid_search = GridSearchCV(pipeline, parameters, n_jobs=-1, verbose=1, scoring='accuracy')\n",
    "\n",
    "grid_search.fit(X_train, y_train)\n",
    "\n",
    "print 'Best score: %0.3f' % grid_search.best_score_\n",
    "\n",
    "print 'Best parameters set:'\n",
    "best_parameters = grid_search.best_estimator_.get_params()\n",
    "\n",
    "for param_name in sorted(parameters.keys()):\n",
    "    print '\\t%s: %r' % (param_name, best_parameters[param_name])\n",
    "    \n",
    "predictions = grid_search.predict(X_test)\n",
    "print classification_report(y_test, predictions)"
   ]
  },
  {
   "cell_type": "markdown",
   "metadata": {},
   "source": [
    "___"
   ]
  }
 ],
 "metadata": {
  "kernelspec": {
   "display_name": "Python 3",
   "language": "python",
   "name": "python3"
  },
  "language_info": {
   "codemirror_mode": {
    "name": "ipython",
    "version": 3
   },
   "file_extension": ".py",
   "mimetype": "text/x-python",
   "name": "python",
   "nbconvert_exporter": "python",
   "pygments_lexer": "ipython3",
   "version": "3.5.2"
  }
 },
 "nbformat": 4,
 "nbformat_minor": 0
}
