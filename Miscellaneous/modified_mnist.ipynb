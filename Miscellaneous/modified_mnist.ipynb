{
 "cells": [
  {
   "cell_type": "markdown",
   "metadata": {},
   "source": [
    "## A) For MNIST dataset, run a TF in supervised mode (train/test) and report results "
   ]
  },
  {
   "cell_type": "markdown",
   "metadata": {},
   "source": [
    "## Using GPU:"
   ]
  },
  {
   "cell_type": "code",
   "execution_count": 1,
   "metadata": {},
   "outputs": [
    {
     "name": "stdout",
     "output_type": "stream",
     "text": [
      "1.6.0\n"
     ]
    }
   ],
   "source": [
    "import tensorflow as tf\n",
    "import numpy as np\n",
    "print(tf.__version__)\n",
    "tf.logging.set_verbosity(tf.logging.INFO)"
   ]
  },
  {
   "cell_type": "code",
   "execution_count": 2,
   "metadata": {},
   "outputs": [
    {
     "name": "stdout",
     "output_type": "stream",
     "text": [
      "Extracting MNIST_data/train-images-idx3-ubyte.gz\n",
      "Extracting MNIST_data/train-labels-idx1-ubyte.gz\n",
      "Extracting MNIST_data/t10k-images-idx3-ubyte.gz\n",
      "Extracting MNIST_data/t10k-labels-idx1-ubyte.gz\n"
     ]
    }
   ],
   "source": [
    "#download mnist data\n",
    "from tensorflow.examples.tutorials.mnist import input_data\n",
    "mnist = input_data.read_data_sets('MNIST_data', one_hot=True)"
   ]
  },
  {
   "cell_type": "code",
   "execution_count": 3,
   "metadata": {},
   "outputs": [],
   "source": [
    "#start interactive session\n",
    "sess = tf.InteractiveSession(config=tf.ConfigProto(log_device_placement=True))"
   ]
  },
  {
   "cell_type": "code",
   "execution_count": 4,
   "metadata": {},
   "outputs": [
    {
     "data": {
      "image/png": "[encoded data removed]",
      "text/plain": [
       "<Figure size 432x288 with 1 Axes>"
      ]
     },
     "metadata": {},
     "output_type": "display_data"
    }
   ],
   "source": [
    "#data exploration\n",
    "import matplotlib.pyplot as plt\n",
    "%matplotlib inline\n",
    "plt.imshow(np.reshape(mnist.train.images[0], [28, 28]), cmap='gray') #current shape is 28 x 28\n",
    "plt.show()"
   ]
  },
  {
   "cell_type": "markdown",
   "metadata": {},
   "source": [
    "### Drop classes 8 and 9:"
   ]
  },
  {
   "cell_type": "code",
   "execution_count": 5,
   "metadata": {},
   "outputs": [],
   "source": [
    "mnist_train_data = np.array([x for (x,y) in zip(mnist.train.images,mnist.train.labels) if y[8]==0 and y[9]==0])\n",
    "mnist_train_labels = np.array([y[0:8] for y in mnist.train.labels if y[8]==0 and y[9]==0])"
   ]
  },
  {
   "cell_type": "code",
   "execution_count": 6,
   "metadata": {
    "scrolled": true
   },
   "outputs": [
    {
     "data": {
      "text/plain": [
       "((44157, 784), (44157, 8))"
      ]
     },
     "execution_count": 6,
     "metadata": {},
     "output_type": "execute_result"
    }
   ],
   "source": [
    "mnist_train_data.shape, mnist_train_labels.shape"
   ]
  },
  {
   "cell_type": "code",
   "execution_count": 7,
   "metadata": {},
   "outputs": [],
   "source": [
    "mnist_test_data = np.array([x for (x,y) in zip(mnist.test.images,mnist.test.labels) if y[8]==0 and y[9]==0])\n",
    "mnist_test_labels = np.array([y[0:8] for y in mnist.test.labels if y[8]==0 and y[9]==0])"
   ]
  },
  {
   "cell_type": "code",
   "execution_count": 8,
   "metadata": {},
   "outputs": [
    {
     "data": {
      "text/plain": [
       "((8017, 784), (8017, 8))"
      ]
     },
     "execution_count": 8,
     "metadata": {},
     "output_type": "execute_result"
    }
   ],
   "source": [
    "mnist_test_data.shape, mnist_test_labels.shape"
   ]
  },
  {
   "cell_type": "markdown",
   "metadata": {},
   "source": [
    "### resize_by_padding zeroes to 28x28 image to make it 32x32 "
   ]
  },
  {
   "cell_type": "code",
   "execution_count": 13,
   "metadata": {},
   "outputs": [],
   "source": [
    "def resize_by_padding(images):\n",
    "    resized_images = []\n",
    "    print(\"Total\", len(images), \"images..\")\n",
    "    \n",
    "    for i in range(len(images)):\n",
    "        \n",
    "        if i%1000 == 0:\n",
    "            print(\"Resized\", i, \"images till now...\")\n",
    "        \n",
    "        \"\"\"\n",
    "        t= tf.constant(images[i], shape=[28,28])\n",
    "        paddings=tf.constant([[2,2], [2,2]])\n",
    "        var = tf.pad(t, paddings, \"CONSTANT\")  #converting to array\n",
    "        b = tf.reshape(var,[1024]) \n",
    "        tempnmpy = b.eval()\n",
    "        \"\"\"\n",
    "        tempnmpy = np.zeros([32,32])\n",
    "        b = np.reshape(images[i], [28, 28])\n",
    "        tempnmpy[:b.shape[0], :b.shape[1]] = b\n",
    "        tempnmpy = tempnmpy.reshape(1024)\n",
    "        #print(tempnmpy)\n",
    "        #plt.imshow(np.reshape(tempnmpy, [32, 32]), cmap='gray')\n",
    "        #plt.show()\n",
    "        \n",
    "        resized_images.append(tempnmpy)\n",
    "    return np.array(resized_images)"
   ]
  },
  {
   "cell_type": "code",
   "execution_count": 14,
   "metadata": {},
   "outputs": [
    {
     "name": "stdout",
     "output_type": "stream",
     "text": [
      "Total 44157 images..\n",
      "Resized 0 images till now...\n",
      "Resized 1000 images till now...\n",
      "Resized 2000 images till now...\n",
      "Resized 3000 images till now...\n",
      "Resized 4000 images till now...\n",
      "Resized 5000 images till now...\n",
      "Resized 6000 images till now...\n",
      "Resized 7000 images till now...\n",
      "Resized 8000 images till now...\n",
      "Resized 9000 images till now...\n",
      "Resized 10000 images till now...\n",
      "Resized 11000 images till now...\n",
      "Resized 12000 images till now...\n",
      "Resized 13000 images till now...\n",
      "Resized 14000 images till now...\n",
      "Resized 15000 images till now...\n",
      "Resized 16000 images till now...\n",
      "Resized 17000 images till now...\n",
      "Resized 18000 images till now...\n",
      "Resized 19000 images till now...\n",
      "Resized 20000 images till now...\n",
      "Resized 21000 images till now...\n",
      "Resized 22000 images till now...\n",
      "Resized 23000 images till now...\n",
      "Resized 24000 images till now...\n",
      "Resized 25000 images till now...\n",
      "Resized 26000 images till now...\n",
      "Resized 27000 images till now...\n",
      "Resized 28000 images till now...\n",
      "Resized 29000 images till now...\n",
      "Resized 30000 images till now...\n",
      "Resized 31000 images till now...\n",
      "Resized 32000 images till now...\n",
      "Resized 33000 images till now...\n",
      "Resized 34000 images till now...\n",
      "Resized 35000 images till now...\n",
      "Resized 36000 images till now...\n",
      "Resized 37000 images till now...\n",
      "Resized 38000 images till now...\n",
      "Resized 39000 images till now...\n",
      "Resized 40000 images till now...\n",
      "Resized 41000 images till now...\n",
      "Resized 42000 images till now...\n",
      "Resized 43000 images till now...\n",
      "Resized 44000 images till now...\n"
     ]
    }
   ],
   "source": [
    "mnist_train_data = resize_by_padding(mnist_train_data)"
   ]
  },
  {
   "cell_type": "code",
   "execution_count": 15,
   "metadata": {},
   "outputs": [
    {
     "name": "stdout",
     "output_type": "stream",
     "text": [
      "Total 8017 images..\n",
      "Resized 0 images till now...\n",
      "Resized 1000 images till now...\n",
      "Resized 2000 images till now...\n",
      "Resized 3000 images till now...\n",
      "Resized 4000 images till now...\n",
      "Resized 5000 images till now...\n",
      "Resized 6000 images till now...\n",
      "Resized 7000 images till now...\n",
      "Resized 8000 images till now...\n"
     ]
    }
   ],
   "source": [
    "mnist_test_data = resize_by_padding(mnist_test_data)"
   ]
  },
  {
   "cell_type": "markdown",
   "metadata": {},
   "source": [
    "New shapes:"
   ]
  },
  {
   "cell_type": "code",
   "execution_count": 16,
   "metadata": {
    "scrolled": true
   },
   "outputs": [
    {
     "data": {
      "text/plain": [
       "((44157, 1024), (44157, 8), (8017, 1024), (8017, 8))"
      ]
     },
     "execution_count": 16,
     "metadata": {},
     "output_type": "execute_result"
    }
   ],
   "source": [
    "mnist_train_data.shape, mnist_train_labels.shape, mnist_test_data.shape, mnist_test_labels.shape"
   ]
  },
  {
   "cell_type": "markdown",
   "metadata": {},
   "source": [
    "### All variables converted to float16"
   ]
  },
  {
   "cell_type": "code",
   "execution_count": 17,
   "metadata": {},
   "outputs": [],
   "source": [
    "x = tf.placeholder(tf.float16, shape=[None, 1024])\n",
    "y_ = tf.placeholder(tf.float16, shape=[None, 8])"
   ]
  },
  {
   "cell_type": "code",
   "execution_count": 18,
   "metadata": {},
   "outputs": [],
   "source": [
    "W = tf.Variable(tf.zeros([1024,8], dtype=tf.float16), dtype=tf.float16)\n",
    "b = tf.Variable(tf.zeros([8], dtype=tf.float16), dtype=tf.float16)"
   ]
  },
  {
   "cell_type": "code",
   "execution_count": 19,
   "metadata": {},
   "outputs": [],
   "source": [
    "#run session\n",
    "sess.run(tf.global_variables_initializer())"
   ]
  },
  {
   "cell_type": "code",
   "execution_count": 20,
   "metadata": {},
   "outputs": [],
   "source": [
    "y = tf.matmul(x,W) + b"
   ]
  },
  {
   "cell_type": "code",
   "execution_count": 21,
   "metadata": {},
   "outputs": [
    {
     "name": "stdout",
     "output_type": "stream",
     "text": [
      "WARNING:tensorflow:From <ipython-input-21-78b4c0e0d208>:2: softmax_cross_entropy_with_logits (from tensorflow.python.ops.nn_ops) is deprecated and will be removed in a future version.\n",
      "Instructions for updating:\n",
      "\n",
      "Future major versions of TensorFlow will allow gradients to flow\n",
      "into the labels input on backprop by default.\n",
      "\n",
      "See tf.nn.softmax_cross_entropy_with_logits_v2.\n",
      "\n"
     ]
    }
   ],
   "source": [
    "cross_entropy = tf.reduce_mean(\n",
    "    tf.nn.softmax_cross_entropy_with_logits(labels=y_, logits=y))"
   ]
  },
  {
   "cell_type": "code",
   "execution_count": 22,
   "metadata": {},
   "outputs": [],
   "source": [
    "train_step = tf.train.GradientDescentOptimizer(0.5).minimize(cross_entropy)"
   ]
  },
  {
   "cell_type": "code",
   "execution_count": 24,
   "metadata": {},
   "outputs": [],
   "source": [
    "#get batches for training\n",
    "def get_batch(X, y, batch_size = 100):\n",
    "    n = X.shape[0]\n",
    "    batch = np.floor(np.random.rand(batch_size)*n).astype(int)\n",
    "    batch_x = X[batch,:]\n",
    "    batch_y = y[batch,:]\n",
    "    return batch_x, batch_y"
   ]
  },
  {
   "cell_type": "code",
   "execution_count": 25,
   "metadata": {},
   "outputs": [],
   "source": [
    "#train:\n",
    "for _ in range(1000):\n",
    "    batch_x, batch_y = get_batch(mnist_train_data, mnist_train_labels, 100)\n",
    "    train_step.run(feed_dict={x: batch_x, y_: batch_y})"
   ]
  },
  {
   "cell_type": "code",
   "execution_count": 29,
   "metadata": {},
   "outputs": [],
   "source": [
    "correct_prediction = tf.equal(tf.argmax(y,1), tf.argmax(y_,1))"
   ]
  },
  {
   "cell_type": "code",
   "execution_count": 30,
   "metadata": {},
   "outputs": [],
   "source": [
    "accuracy = tf.reduce_mean(tf.cast(correct_prediction, tf.float16))"
   ]
  },
  {
   "cell_type": "code",
   "execution_count": 31,
   "metadata": {},
   "outputs": [
    {
     "name": "stdout",
     "output_type": "stream",
     "text": [
      "0.947\n"
     ]
    }
   ],
   "source": [
    "#Accuracy\n",
    "print(sess.run(accuracy, feed_dict={x: mnist_test_data, y_: mnist_test_labels}))"
   ]
  },
  {
   "cell_type": "code",
   "execution_count": 32,
   "metadata": {},
   "outputs": [],
   "source": [
    "# Predict single images\n",
    "n_images = 4\n",
    "# Get images from test set\n",
    "test_images = mnist_test_data[:n_images]"
   ]
  },
  {
   "cell_type": "code",
   "execution_count": 33,
   "metadata": {},
   "outputs": [],
   "source": [
    "test_labels = mnist_test_labels[:n_images]"
   ]
  },
  {
   "cell_type": "code",
   "execution_count": 34,
   "metadata": {},
   "outputs": [],
   "source": [
    "# Prepare the input data\n",
    "input_fn = tf.estimator.inputs.numpy_input_fn(\n",
    "    x={'images': test_images}, shuffle=False)"
   ]
  },
  {
   "cell_type": "code",
   "execution_count": 35,
   "metadata": {},
   "outputs": [],
   "source": [
    "prediction=tf.argmax(y,1) "
   ]
  },
  {
   "cell_type": "code",
   "execution_count": 36,
   "metadata": {},
   "outputs": [],
   "source": [
    "preds = prediction.eval(feed_dict={x: test_images}, session=sess)"
   ]
  },
  {
   "cell_type": "code",
   "execution_count": 38,
   "metadata": {
    "scrolled": true
   },
   "outputs": [
    {
     "data": {
      "image/png": "[encoded data removed]",
      "text/plain": [
       "<Figure size 432x288 with 1 Axes>"
      ]
     },
     "metadata": {},
     "output_type": "display_data"
    },
    {
     "name": "stdout",
     "output_type": "stream",
     "text": [
      "Model prediction: 7\n"
     ]
    },
    {
     "data": {
      "image/png": "[encoded data removed]",
      "text/plain": [
       "<Figure size 432x288 with 1 Axes>"
      ]
     },
     "metadata": {},
     "output_type": "display_data"
    },
    {
     "name": "stdout",
     "output_type": "stream",
     "text": [
      "Model prediction: 2\n"
     ]
    },
    {
     "data": {
      "image/png": "[encoded data removed]",
      "text/plain": [
       "<Figure size 432x288 with 1 Axes>"
      ]
     },
     "metadata": {},
     "output_type": "display_data"
    },
    {
     "name": "stdout",
     "output_type": "stream",
     "text": [
      "Model prediction: 1\n"
     ]
    },
    {
     "data": {
      "image/png": "[encoded data removed]",
      "text/plain": [
       "<Figure size 432x288 with 1 Axes>"
      ]
     },
     "metadata": {},
     "output_type": "display_data"
    },
    {
     "name": "stdout",
     "output_type": "stream",
     "text": [
      "Model prediction: 0\n"
     ]
    }
   ],
   "source": [
    "# Display\n",
    "for i in range(n_images):\n",
    "    plt.imshow(np.reshape(test_images[i], [32, 32]), cmap='gray')\n",
    "    plt.show()\n",
    "    print(\"Model prediction:\", preds[i])"
   ]
  },
  {
   "cell_type": "markdown",
   "metadata": {},
   "source": [
    "________"
   ]
  }
 ],
 "metadata": {
  "kernelspec": {
   "display_name": "Python 3",
   "language": "python",
   "name": "python3"
  },
  "language_info": {
   "codemirror_mode": {
    "name": "ipython",
    "version": 3
   },
   "file_extension": ".py",
   "mimetype": "text/x-python",
   "name": "python",
   "nbconvert_exporter": "python",
   "pygments_lexer": "ipython3",
   "version": "3.5.2"
  }
 },
 "nbformat": 4,
 "nbformat_minor": 2
}
