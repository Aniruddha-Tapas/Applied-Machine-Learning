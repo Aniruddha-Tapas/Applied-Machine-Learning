{
 "cells": [
  {
   "cell_type": "markdown",
   "metadata": {},
   "source": [
    "# Getting Started\n",
    "<hr>\n",
    "\n",
    "## An introduction to scikit-learn\n",
    "\n",
    "Since its release in 2007, scikit-learn has become one of the most popular open\n",
    "source machine learning libraries for Python. scikit-learn provides algorithms for\n",
    "machine learning tasks including classification, regression, dimensionality reduction,\n",
    "and clustering. It also provides modules for extracting features, processing data,\n",
    "and evaluating models.\n",
    "\n",
    "Conceived as an extension to the SciPy library, scikit-learn is built on the popular\n",
    "Python libraries NumPy and matplotlib. NumPy extends Python to support efficient\n",
    "operations on large arrays and multidimensional matrices. matplotlib provides\n",
    "visualization tools, and SciPy provides modules for scientific computing.\n",
    "scikit-learn is popular for academic research because it has a well-documented,\n",
    "easy-to-use, and versatile API. Developers can use scikit-learn to experiment with\n",
    "different algorithms by changing only a few lines of the code. scikit-learn wraps\n",
    "some popular implementations of machine learning algorithms, such as LIBSVM\n",
    "and LIBLINEAR. Other Python libraries, including NLTK, include wrappers for\n",
    "scikit-learn. scikit-learn also includes a variety of datasets, allowing developers to\n",
    "focus on algorithms rather than obtaining and cleaning data.\n",
    "\n",
    "Licensed under the permissive BSD license, scikit-learn can be used in commercial\n",
    "applications without restrictions. Many of scikit-learn's algorithms are fast and\n",
    "scalable to all but massive datasets. Finally, scikit-learn is noted for its reliability;\n",
    "much of the library is covered by automated tests.\n",
    "\n",
    "## Estimators\n",
    "\n",
    "Given a scikit-learn *estimator* object named `model`, the following methods are available:\n",
    "\n",
    "- Available in **all Estimators**\n",
    "  + `model.fit()` : fit training data. For supervised learning applications,\n",
    "    this accepts two arguments: the data `X` and the labels `y` (e.g. `model.fit(X, y)`).\n",
    "    For unsupervised learning applications, this accepts only a single argument,\n",
    "    the data `X` (e.g. `model.fit(X)`).\n",
    "- Available in **supervised estimators**\n",
    "  + `model.predict()` : given a trained model, predict the label of a new set of data.\n",
    "    This method accepts one argument, the new data `X_new` (e.g. `model.predict(X_new)`),\n",
    "    and returns the learned label for each object in the array.\n",
    "  + `model.predict_proba()` : For classification problems, some estimators also provide\n",
    "    this method, which returns the probability that a new observation has each categorical label.\n",
    "    In this case, the label with the highest probability is returned by `model.predict()`.\n",
    "  + `model.score()` : for classification or regression problems, most (all?) estimators implement\n",
    "    a score method.  Scores are between 0 and 1, with a larger score indicating a better fit.\n",
    "- Available in **unsupervised estimators**\n",
    "  + `model.predict()` : predict labels in clustering algorithms.\n",
    "  + `model.transform()` : given an unsupervised model, transform new data into the new basis.\n",
    "    This also accepts one argument `X_new`, and returns the new representation of the data based\n",
    "    on the unsupervised model.\n",
    "  + `model.fit_transform()` : some estimators implement this method,\n",
    "    which more efficiently performs a fit and a transform on the same input data.\n"
   ]
  },
  {
   "cell_type": "markdown",
   "metadata": {},
   "source": [
    "## Getting started\n",
    "Assuming that you have Python already installed (everything at least as recent as 2.7\n",
    "should be fine), we need to install NumPy and SciPy for numerical operations, as well\n",
    "as matplotlib for visualization.\n",
    "\n",
    "## Introduction to NumPy, SciPy, and matplotlib\n",
    "\n",
    "Before we can talk about concrete machine learning algorithms, we have to talk\n",
    "about how best to store the data we will chew through. This is important as the most\n",
    "advanced learning algorithm will not be of any help to us if it will never finish. This\n",
    "may be simply because accessing the data is too slow. Or maybe its representation\n",
    "forces the operating system to swap all day. Add to this that Python is an interpreted\n",
    "language (a highly optimized one, though) that is slow for many numerically\n",
    "heavy algorithms compared to C or FORTRAN. So we might ask why on earth so\n",
    "many scientists and companies are betting their fortune on Python even in highly\n",
    "computation-intensive areas?\n",
    "\n",
    "The answer is that, in Python, it is very easy to off-load number crunching tasks to\n",
    "the lower layer in the form of C or FORTRAN extensions. And that is exactly what\n",
    "NumPy and SciPy do (http://scipy.org/Download). In this tandem, NumPy\n",
    "provides the support of highly optimized multidimensional arrays, which are the\n",
    "basic data structure of most state-of-the-art algorithms. SciPy uses those arrays to\n",
    "provide a set of fast numerical recipes. Finally, matplotlib (http://matplotlib.\n",
    "org/) is probably the most convenient and feature-rich library to plot high-quality\n",
    "graphs using Python.\n",
    "\n",
    "### * Modules  : Numpy,Scipy,Matplotlib... *"
   ]
  },
  {
   "cell_type": "markdown",
   "metadata": {},
   "source": [
    "___"
   ]
  },
  {
   "cell_type": "markdown",
   "metadata": {},
   "source": [
    "## Our first machine learning method – \n",
    "\n",
    "# Supervised Learning: Classification\n",
    "\n",
    "To get a grip on the problem of machine learning in scikit-learn, we will start with a\n",
    "very simple machine learning problem: we will try to predict the Iris flower species\n",
    "using only two attributes: sepal width and sepal length. This is an instance of a\n",
    "classification problem, where we want to assign a label (a value taken from a discrete\n",
    "set) to an item according to its features.\n",
    "\n",
    "Let's first build our training dataset—a subset of the original sample, represented by\n",
    "the two attributes we selected and their respective target values. After importing the\n",
    "dataset, we will randomly select about 75 percent of the instances, and reserve the\n",
    "remaining ones (the evaluation dataset) for evaluation purposes (we will see later\n",
    "why we should always do that):"
   ]
  },
  {
   "cell_type": "code",
   "execution_count": 63,
   "metadata": {
    "collapsed": false
   },
   "outputs": [
    {
     "name": "stdout",
     "output_type": "stream",
     "text": [
      "(112L, 2L) (112L,)\n"
     ]
    }
   ],
   "source": [
    "from sklearn.cross_validation import train_test_split\n",
    "from sklearn.preprocessing import StandardScaler\n",
    "\n",
    "# Get dataset with only the first two attributes\n",
    "X, y = X_iris[:,:2], y_iris\n",
    "# Split the dataset into a trainig and a testing set\n",
    "# Test set will be the 25% taken randomly\n",
    "X_train, X_test, y_train, y_test = train_test_split(X, y, test_size=0.25, random_state=33)\n",
    "print X_train.shape, y_train.shape\n",
    "# Standarize the features\n",
    "scaler = StandardScaler().fit(X_train)\n",
    "X_train = scaler.transform(X_train)\n",
    "\n",
    "X_test = scaler.transform(X_test)"
   ]
  },
  {
   "cell_type": "markdown",
   "metadata": {},
   "source": [
    "The train_test_split function automatically builds the training and evaluation\n",
    "datasets, randomly selecting the samples. Why not just select the first 112 examples?\n",
    "This is because it could happen that the instance ordering within the sample could\n",
    "matter and that the first instances could be different to the last ones. In fact, if you\n",
    "look at the Iris datasets, the instances are ordered by their target class, and this\n",
    "implies that the proportion of 0 and 1 classes will be higher in the new training set,\n",
    "compared with that of the original dataset. We always want our training data to be a\n",
    "representative sample of the population they represent.\n",
    "The last three lines of the previous code modify the training set in a process usually\n",
    "called feature scaling. For each feature, calculate the average, subtract the mean\n",
    "value from the feature value, and divide the result by their standard deviation. After\n",
    "scaling, each feature will have a zero average, with a standard deviation of one. This\n",
    "standardization of values (which does not change their distribution, as you could\n",
    "verify by plotting the X values before and after scaling) is a common requirement of\n",
    "machine learning methods, to avoid that features with large values may weight too\n",
    "much on the final results.\n",
    "\n",
    "Now, let's take a look at how our training instances are distributed in the twodimensional\n",
    "space generated by the learning feature. pyplot, from the matplotlib\n",
    "library, will help us with this:"
   ]
  },
  {
   "cell_type": "code",
   "execution_count": 64,
   "metadata": {
    "collapsed": false
   },
   "outputs": [
    {
     "data": {
      "text/plain": [
       "<matplotlib.text.Text at 0xaf127f0>"
      ]
     },
     "execution_count": 64,
     "metadata": {},
     "output_type": "execute_result"
    },
    {
     "data": {
      "image/png": "[encoded data removed]",
      "text/plain": [
       "<matplotlib.figure.Figure at 0xd773cc0>"
      ]
     },
     "metadata": {},
     "output_type": "display_data"
    }
   ],
   "source": [
    "colors = ['red', 'greenyellow', 'blue']\n",
    "for i in xrange(len(colors)):\n",
    "    px = X_train[:, 0][y_train == i]\n",
    "    py = X_train[:, 1][y_train == i]\n",
    "    plt.scatter(px, py, c=colors[i])\n",
    "\n",
    "plt.legend(iris.target_names)\n",
    "plt.xlabel('Sepal length')\n",
    "plt.ylabel('Sepal width')"
   ]
  },
  {
   "cell_type": "markdown",
   "metadata": {},
   "source": [
    "The scatter function simply plots the first feature value (sepal width) for each\n",
    "instance versus its second feature value (sepal length) and uses the target class\n",
    "values to assign a different color for each class. This way, we can have a pretty good\n",
    "idea of how these attributes contribute to determine the target class. The following\n",
    "screenshot shows the resulting plot.\n",
    "\n",
    "Looking at the preceding screenshot, we can see that the separation between the red\n",
    "dots (corresponding to the Iris setosa) and green and blue dots (corresponding to the\n",
    "two other Iris species) is quite clear, while separating green from blue dots seems a\n",
    "very difficult task, given the two features available. This is a very common scenario:\n",
    "one of the first questions we want to answer in a machine learning task is if the\n",
    "feature set we are using is actually useful for the task we are solving, or if we need to\n",
    "add new attributes or change our method.\n",
    "\n",
    "Given the available data, let's, for a moment, redefine our learning task: suppose\n",
    "we aim, given an Iris flower instance, to predict if it is a setosa or not. We have\n",
    "converted our problem into a binary classification task (that is, we only have two\n",
    "possible target classes).\n",
    "\n",
    "If we look at the picture, it seems that we could draw a straight line that correctly\n",
    "separates both the sets (perhaps with the exception of one or two dots, which\n",
    "could lie in the incorrect side of the line). This is exactly what our first classification\n",
    "method, linear classification models, tries to do: build a line (or, more generally, a\n",
    "hyperplane in the feature space) that best separates both the target classes, and use\n",
    "it as a decision boundary (that is, the class membership depends on what side of the\n",
    "hyperplane the instance is).\n",
    "\n",
    "To implement linear classification, we will use the SGDClassifier from scikit-learn.\n",
    "SGD stands for Stochastic Gradient Descent, a very popular numerical procedure\n",
    "to find the local minimum of a function (in this case, the loss function, which\n",
    "measures how far every instance is from our boundary). The algorithm will learn the\n",
    "coefficients of the hyperplane by minimizing the loss function.\n",
    "\n",
    "To use any method in scikit-learn, we must first create the corresponding classifier\n",
    "object, initialize its parameters, and train the model that better fits the training data.\n",
    "You will see while you advance in this book that this procedure will be pretty much\n",
    "the same for what initially seemed very different tasks."
   ]
  },
  {
   "cell_type": "code",
   "execution_count": 65,
   "metadata": {
    "collapsed": false
   },
   "outputs": [
    {
     "data": {
      "text/plain": [
       "SGDClassifier(alpha=0.0001, average=False, class_weight=None, epsilon=0.1,\n",
       "       eta0=0.0, fit_intercept=True, l1_ratio=0.15,\n",
       "       learning_rate='optimal', loss='hinge', n_iter=5, n_jobs=1,\n",
       "       penalty='l2', power_t=0.5, random_state=None, shuffle=True,\n",
       "       verbose=0, warm_start=False)"
      ]
     },
     "execution_count": 65,
     "metadata": {},
     "output_type": "execute_result"
    }
   ],
   "source": [
    "# create the linear model classifier\n",
    "from sklearn.linear_model import SGDClassifier\n",
    "clf = SGDClassifier()\n",
    "# fit (train) the classifier\n",
    "clf.fit(X_train, y_train)"
   ]
  },
  {
   "cell_type": "markdown",
   "metadata": {},
   "source": [
    "The SGDClassifier initialization function allows several parameters. For the\n",
    "moment, we will use the default values, but keep in mind that these parameters\n",
    "could be very important, especially when you face more real-world tasks, where the\n",
    "number of instances (or even the number of attributes) could be very large. The fit\n",
    "function is probably the most important one in scikit-learn. It receives the training\n",
    "data and the training classes, and builds the classifier. Every supervised learning\n",
    "method in scikit-learn implements this function.\n",
    "\n",
    "What does the classifier look like in our linear model method? As we have already\n",
    "said, every future classification decision depends just on a hyperplane. That\n",
    "hyperplane is, then, our model. The coef_ attribute of the clf object (consider, for\n",
    "the moment, only the first row of the matrices), now has the coefficients of the linear\n",
    "boundary and the intercept_ attribute, the point of intersection of the line with the\n",
    "y axis. Let's print them:"
   ]
  },
  {
   "cell_type": "code",
   "execution_count": 66,
   "metadata": {
    "collapsed": false
   },
   "outputs": [
    {
     "name": "stdout",
     "output_type": "stream",
     "text": [
      "[[-30.79833395  15.06870628]\n",
      " [  0.74533565  -4.07000427]\n",
      " [ 13.17646958   1.50202538]]\n",
      "[-18.46357161  -2.26800646 -16.31131755]\n"
     ]
    }
   ],
   "source": [
    "# print learned coeficients\n",
    "print clf.coef_\n",
    "print clf.intercept_"
   ]
  },
  {
   "cell_type": "markdown",
   "metadata": {},
   "source": [
    "Indeed in the real plane, with these three values, we can draw a line, represented by\n",
    "the following equation:\n",
    "    \n",
    ">_ -17.62477802 - 28.53692691 * x1 + 15.05517618 * x2 = 0 _\n",
    "\n",
    "Now, given x1 and x2 (our real-valued features), we just have to compute the value\n",
    "of the left-side of the equation: if its value is greater than zero, then the point is\n",
    "above the decision boundary (the red side), otherwise it will be beneath the line (the\n",
    "green or blue side). Our prediction algorithm will simply check this and predict the\n",
    "corresponding class for any new iris flower.\n",
    "\n",
    "But, why does our coefficient matrix have three rows? Because we did not tell the\n",
    "method that we have changed our problem definition (how could we have done\n",
    "this?), and it is facing a three-class problem, not a binary decision problem. What, in\n",
    "this case, the classifier does is the same we did—it converts the problem into three\n",
    "binary classification problems in a one-versus-all setting (it proposes three lines that\n",
    "separate a class from the rest).\n",
    "\n",
    "The following code draws the three decision boundaries and lets us know if they\n",
    "worked as expected:"
   ]
  },
  {
   "cell_type": "code",
   "execution_count": 67,
   "metadata": {
    "collapsed": false
   },
   "outputs": [
    {
     "data": {
      "image/png": "[encoded data removed]",
      "text/plain": [
       "<matplotlib.figure.Figure at 0xb108240>"
      ]
     },
     "metadata": {},
     "output_type": "display_data"
    }
   ],
   "source": [
    "x_min, x_max = X_train[:, 0].min() - .5, X_train[:, 0].max() + .5\n",
    "y_min, y_max = X_train[:, 1].min() - .5, X_train[:, 1].max() + .5\n",
    "xs = np.arange(x_min,x_max,0.5)\n",
    "fig, axes = plt.subplots(1,3)\n",
    "fig.set_size_inches(10,6)\n",
    "for i in [0,1,2]:\n",
    "    axes[i].set_aspect('equal')\n",
    "    axes[i].set_title('Class ' + str(i) + ' versus the rest')\n",
    "    axes[i].set_xlabel('Sepal length')\n",
    "    axes[i].set_ylabel('Sepal width')\n",
    "    axes[i].set_xlim(x_min, x_max)\n",
    "    axes[i].set_ylim(y_min, y_max)\n",
    "    plt.sca(axes[i])\n",
    "    for j in xrange(len(colors)):\n",
    "        px = X_train[:, 0][y_train == j]\n",
    "        py = X_train[:, 1][y_train == j]\n",
    "        plt.scatter(px, py, c=colors[j])\n",
    "    ys = (-clf.intercept_[i]-xs*clf.coef_[i,0])/clf.coef_[i,1]\n",
    "    plt.plot(xs,ys,hold=True)"
   ]
  },
  {
   "cell_type": "markdown",
   "metadata": {},
   "source": [
    "The first plot shows the model built for our original binary problem. It looks like\n",
    "the line separates quite well the Iris setosa from the rest. For the other two tasks, as\n",
    "we expected, there are several points that lie on the wrong side of the hyperplane.\n",
    "Now, the end of the story: suppose that we have a new flower with a sepal width of\n",
    "4.7 and a sepal length of 3.1, and we want to predict its class. We just have to apply\n",
    "our brand new classifier to it (after normalizing!). The predict method takes\n",
    "an array of instances (in this case, with just one element) and returns a list of\n",
    "predicted classes:"
   ]
  },
  {
   "cell_type": "code",
   "execution_count": 68,
   "metadata": {
    "collapsed": false
   },
   "outputs": [
    {
     "name": "stdout",
     "output_type": "stream",
     "text": [
      "[0]\n"
     ]
    }
   ],
   "source": [
    "print clf.predict(scaler.transform([[4.7, 3.1]]))"
   ]
  },
  {
   "cell_type": "markdown",
   "metadata": {},
   "source": [
    "If our classifier is right, this Iris flower is a setosa. Probably, you have noticed that\n",
    "we are predicting a class from the possible three classes but that linear models are\n",
    "essentially binary: something is missing. You are right. Our prediction procedure\n",
    "combines the result of the three binary classifiers and selects the class in which it is\n",
    "more confident. In this case, we will select the boundary line whose distance to the\n",
    "instance is longer. We can check that using the classifier decision_function method:"
   ]
  },
  {
   "cell_type": "code",
   "execution_count": 69,
   "metadata": {
    "collapsed": false
   },
   "outputs": [
    {
     "name": "stdout",
     "output_type": "stream",
     "text": [
      "[[ 21.74978749  -3.59105443 -32.76527648]]\n"
     ]
    }
   ],
   "source": [
    "print clf.decision_function(scaler.transform([[4.7, 3.1]]))"
   ]
  },
  {
   "cell_type": "markdown",
   "metadata": {},
   "source": [
    "## Evaluating our results\n",
    "We want to be a little more formal when we talk about a good classifier. What does\n",
    "that mean? The performance of a classifier is a measure of its effectiveness. The\n",
    "simplest performance measure is accuracy: given a classifier and an evaluation\n",
    "dataset, it measures the proportion of instances correctly classified by the classifier.\n",
    "First, let's test the accuracy on the training set:"
   ]
  },
  {
   "cell_type": "code",
   "execution_count": 70,
   "metadata": {
    "collapsed": false
   },
   "outputs": [
    {
     "name": "stdout",
     "output_type": "stream",
     "text": [
      "0.830357142857\n"
     ]
    }
   ],
   "source": [
    "from sklearn import metrics\n",
    "y_train_pred = clf.predict(X_train)\n",
    "print metrics.accuracy_score(y_train, y_train_pred)"
   ]
  },
  {
   "cell_type": "markdown",
   "metadata": {},
   "source": [
    "This figure tells us that 82 percent of the training set instances are correctly classified\n",
    "by our classifier.\n",
    "\n",
    "Probably, the most important thing you should learn from this chapter is that\n",
    "measuring accuracy on the training set is really a bad idea. You have built your\n",
    "model using this data, and it is possible that your model adjusts well to them but\n",
    "performs poorly in future (previously unseen data), which is its purpose. This\n",
    "phenomenon is called overfitting, and you will see it now and again while you\n",
    "read this book. If you measure based on your training data, you will never detect\n",
    "overfitting. So, never measure based on your training data.\n",
    "\n",
    "This is why we have reserved part of the original dataset (the testing partition)—we\n",
    "want to evaluate performance on previously unseen data. Let's check the accuracy\n",
    "again, now on the evaluation set (recall that it was already scaled):"
   ]
  },
  {
   "cell_type": "code",
   "execution_count": 71,
   "metadata": {
    "collapsed": false
   },
   "outputs": [
    {
     "name": "stdout",
     "output_type": "stream",
     "text": [
      "0.605263157895\n"
     ]
    }
   ],
   "source": [
    "y_pred = clf.predict(X_test)\n",
    "print metrics.accuracy_score(y_test, y_pred)"
   ]
  },
  {
   "cell_type": "markdown",
   "metadata": {},
   "source": [
    "We obtained an accuracy of 68 percent in our testing set. Usually, accuracy on the\n",
    "testing set is lower than the accuracy on the training set, since the model is actually\n",
    "modeling the training set, not the testing set. Our goal will always be to produce\n",
    "models that avoid overfitting when trained over a training set, so they have enough\n",
    "generalization power to also correctly model the unseen data.\n",
    "\n",
    "Accuracy on the test set is a good performance measure when the number of instances\n",
    "of each class is similar, that is, we have a uniform distribution of classes. But if you\n",
    "have a skewed distribution (say, 99 percent of the instances belong to one class), a\n",
    "classifier that always predicts the majority class could have an excellent performance in\n",
    "terms of accuracy despite the fact that it is an extremely naive method.\n"
   ]
  },
  {
   "cell_type": "markdown",
   "metadata": {},
   "source": [
    "Within scikit-learn, there are several evaluation functions; we will show three\n",
    "popular ones: precision, recall, and F1-score (or f-measure). They assume a binary\n",
    "classification problem and two classes—a positive one and a negative one. In our\n",
    "example, the positive class could be Iris setosa, while the other two will be combined\n",
    "into one negative class.\n",
    "\n",
    "* Precision: This computes the proportion of instances predicted as positives that were correctly evaluated (it measures how right our classifier is when it says that an instance is positive).\n",
    "* Recall: This counts the proportion of positive instances that were correctly evaluated (measuring how right our classifier is when faced with a positive instance).\n",
    "* F1-score: This is the harmonic mean of precision and recall, and tries to combine both in a single number.\n",
    "\n",
    "We can define these measures in terms of True and False, and Positives and Negatives:\n",
    "                    <pre>\n",
    "                                 | <b>Prediction: Positive           </b>|<b> Prediction: Negative </b>\n",
    "                    Target cass: | Positive True Positive  (TP)   | False Negative (FN)\n",
    "                    Target cass: | Negative False Positive (FP)   | True Negative (TN)\n",
    "                    </pre>\n",
    "\n",
    "With m being the sample size (that is, TP + TN + FP + FN), we have the\n",
    "following formulae:\n",
    "\n",
    "* Accuracy = (TP + TN) / m\n",
    "* Precision = TP / (TP + FP)\n",
    "* Recall = TP / (TP + FN)\n",
    "* F1-score = 2 * Precision * Recall / (Precision + Recall)\n",
    "\n",
    "Let's see it in practice:"
   ]
  },
  {
   "cell_type": "code",
   "execution_count": 72,
   "metadata": {
    "collapsed": false
   },
   "outputs": [
    {
     "name": "stdout",
     "output_type": "stream",
     "text": [
      "             precision    recall  f1-score   support\n",
      "\n",
      "     setosa       1.00      1.00      1.00         8\n",
      " versicolor       0.42      1.00      0.59        11\n",
      "  virginica       1.00      0.21      0.35        19\n",
      "\n",
      "avg / total       0.83      0.61      0.56        38\n",
      "\n"
     ]
    }
   ],
   "source": [
    "print metrics.classification_report(y_test, y_pred, target_names=iris.target_names)"
   ]
  },
  {
   "cell_type": "markdown",
   "metadata": {},
   "source": [
    "We have computed precision, recall, and f1-score for each class and their average\n",
    "values. What we can see in this table is:\n",
    "* The classifier obtained 1.0 precision and recall in the setosa class. This means that for precision, 100 percent of the instances that are classified as setosa are really setosa instances, and for recall, that 100 percent of the setosa instances were classified as setosa.\n",
    "* On the other hand, in the versicolor class, the results are not as good: we have a precision of 0.43, that is, only 43 percent of the instances that are classified as versicolor are really versicolor instances. Also, for versicolor, we have a recall of 0.27, that is, only 27 percent of the versicolor instances are correctly classified.\n",
    "\n",
    "Now, we can see that our method (as we expected) is very good at predicting\n",
    "setosa, while it suffers when it has to separate the versicolor or virginica\n",
    "classes. The support value shows how many instances of each class we had in the\n",
    "testing set.\n",
    "\n",
    "Another useful metric (especially for multi-class problems) is the confusion matrix:\n",
    "in its (i, j) cell, it shows the number of class instances i that were predicted to\n",
    "be in class j. A good classifier will accumulate the values on the confusion matrix\n",
    "diagonal, where correctly classified instances belong."
   ]
  },
  {
   "cell_type": "code",
   "execution_count": 73,
   "metadata": {
    "collapsed": false
   },
   "outputs": [
    {
     "name": "stdout",
     "output_type": "stream",
     "text": [
      "[[ 8  0  0]\n",
      " [ 0 11  0]\n",
      " [ 0 15  4]]\n"
     ]
    }
   ],
   "source": [
    "print metrics.confusion_matrix(y_test, y_pred)"
   ]
  },
  {
   "cell_type": "markdown",
   "metadata": {},
   "source": [
    "Our classifier is never wrong in our evaluation set when it classifies class 0 (setosa)\n",
    "flowers. But, when it faces classes 1 and 2 flowers (versicolor and virginica), it\n",
    "confuses them. The confusion matrix gives us useful information to know what types\n",
    "of errors the classifier is making.\n",
    "\n",
    "To finish our evaluation process, we will introduce a very useful method known\n",
    "as cross-validation. As we explained before, we have to partition our dataset into\n",
    "a training set and a testing set. However, partitioning the data, results such that\n",
    "there are fewer instances to train on, and also, depending on the particular partition\n",
    "we make (usually made randomly), we can get either better or worse results.\n",
    "Cross-validation allows us to avoid this particular case, reducing result variance and\n",
    "producing a more realistic score for our models. The usual steps for k-fold\n",
    "cross-validation are the following:\n",
    "\n",
    "1. Partition the dataset into k different subsets.\n",
    "2. Create k different models by training on k-1 subsets and testing on theremaining subset.\n",
    "3. Measure the performance on each of the k models and take the average measure.\n",
    "\n",
    "Let's do that with our linear classifier. First, we will have to create a composite\n",
    "estimator made by a pipeline of the standardization and linear models. With this\n",
    "technique, we make sure that each iteration will standardize the data and then\n",
    "train/test on the transformed data. The Pipeline class is also useful to simplify\n",
    "the construction of more complex models that chain-multiply the transformations.\n",
    "\n",
    "We will chose to have k = 5 folds, so each time we will train on 80 percent of the\n",
    "data and test on the remaining 20 percent. Cross-validation, by default, uses accuracy\n",
    "as its performance measure, but we could select the measurement by passing any\n",
    "scorer function as an argument."
   ]
  },
  {
   "cell_type": "code",
   "execution_count": 74,
   "metadata": {
    "collapsed": false
   },
   "outputs": [
    {
     "name": "stdout",
     "output_type": "stream",
     "text": [
      "[ 0.76666667  0.63333333  0.76666667  0.76666667  0.9       ]\n"
     ]
    }
   ],
   "source": [
    "from sklearn.cross_validation import cross_val_score, KFold\n",
    "from sklearn.pipeline import Pipeline\n",
    "\n",
    "# create a composite estimator made by a pipeline of the standarization and the linear model\n",
    "clf = Pipeline([\n",
    "        ('scaler', StandardScaler()),\n",
    "        ('linear_model', SGDClassifier())\n",
    "])\n",
    "# create a k-fold croos validation iterator of k=5 folds\n",
    "cv = KFold(X.shape[0], 5, shuffle=True, random_state=33)\n",
    "# by default the score used is the one returned by score method of the estimator (accuracy)\n",
    "scores = cross_val_score(clf, X, y, cv=cv)\n",
    "print scores"
   ]
  },
  {
   "cell_type": "markdown",
   "metadata": {},
   "source": [
    "We obtained an array with the k scores. We can calculate the mean and the standard\n",
    "error to obtain a final figure:"
   ]
  },
  {
   "cell_type": "code",
   "execution_count": 75,
   "metadata": {
    "collapsed": false
   },
   "outputs": [
    {
     "name": "stdout",
     "output_type": "stream",
     "text": [
      "Mean score: 0.767 (+/-0.042)\n"
     ]
    }
   ],
   "source": [
    "from scipy.stats import sem\n",
    "\n",
    "def mean_score(scores):\n",
    "    \"\"\"Print the empirical mean score and standard error of the mean.\"\"\"\n",
    "    return (\"Mean score: {0:.3f} (+/-{1:.3f})\").format(\n",
    "        np.mean(scores), sem(scores))\n",
    "\n",
    "print mean_score(scores)"
   ]
  },
  {
   "cell_type": "markdown",
   "metadata": {},
   "source": [
    "Our model has an average accuracy of 0.76."
   ]
  },
  {
   "cell_type": "markdown",
   "metadata": {},
   "source": [
    "___\n",
    "## Unsupervised Learning: Clustering\n",
    "\n",
    "Sometimes, is possible to take an unlabeled training set and try to find a hidden structure or patterns in the data: there is no given target class to predict or to evaluate the resulting model. We call these class of machine learning tasks _unsupervised learning_. For instance, _clustering_ methods try to group instances into subsets (called clusters): an instance should be similar to another in the same subset and different from those belonging to another subset.\n",
    "\n",
    "In this section, we will perform clustering of the Iris data set, to see if we could group instances using their petal and sepal width and length. The trainig set is the same we used we used for our last example on supervised classification.\n",
    "\n",
    "K-means is probably the most popular clustering algorithm, because it is very simple and easy to implement, and it has shown good performance on different tasks. It belongs to the class of partition algorithms that simultaneously partition data points into distinct groups, called clusters. We will apply k-means to the training data, using only sepal dimensions, building 3 clusters (note that we could have selected a different number of cluster to group data into)\n",
    "\n"
   ]
  },
  {
   "cell_type": "code",
   "execution_count": 89,
   "metadata": {
    "collapsed": false
   },
   "outputs": [],
   "source": [
    "X_train4, X_test4, y_train4, y_test4 = train_test_split(X_iris, y_iris, test_size=0.25, random_state=33)\n",
    "    \n",
    "# Standarize the features\n",
    "scaler = StandardScaler().fit(X_train4)\n",
    "X_train4 = scaler.transform(X_train4)\n",
    "X_test4 = scaler.transform(X_test4)"
   ]
  },
  {
   "cell_type": "code",
   "execution_count": 90,
   "metadata": {
    "collapsed": false
   },
   "outputs": [
    {
     "data": {
      "text/plain": [
       "KMeans(copy_x=True, init='k-means++', max_iter=300, n_clusters=3, n_init=10,\n",
       "    n_jobs=1, precompute_distances='auto', random_state=33, tol=0.0001,\n",
       "    verbose=0)"
      ]
     },
     "execution_count": 90,
     "metadata": {},
     "output_type": "execute_result"
    }
   ],
   "source": [
    "from sklearn import cluster\n",
    "clf_sepal = cluster.KMeans(init='k-means++', n_clusters=3, random_state=33)\n",
    "clf_sepal.fit(X_train4[:,0:2])"
   ]
  },
  {
   "cell_type": "markdown",
   "metadata": {},
   "source": [
    "We can show the label assigned for each instance (note that this label is a cluster name, it has nothing to do with our original target classes... actually, when you are doing clustering you have no target class!)."
   ]
  },
  {
   "cell_type": "code",
   "execution_count": 91,
   "metadata": {
    "collapsed": false
   },
   "outputs": [
    {
     "name": "stdout",
     "output_type": "stream",
     "text": [
      "[1 0 1 1 1 0 0 1 0 2 0 0 1 2 0 2 1 2 1 0 0 1 1 0 0 2 0 1 2 2 1 1 0 0 2 1 0\n",
      " 1 1 2 1 0 2 0 1 0 2 2 0 2 1 0 0 1 0 0 0 2 1 0 1 0 1 0 1 2 1 1 1 0 1 0 2 1\n",
      " 0 0 0 0 2 2 0 1 1 2 1 0 0 1 1 1 0 1 1 0 2 1 2 1 2 0 2 0 0 0 1 1 2 1 1 1 2\n",
      " 0]\n"
     ]
    }
   ],
   "source": [
    "print (clf_sepal.labels_)"
   ]
  },
  {
   "cell_type": "markdown",
   "metadata": {},
   "source": [
    "Using NumPy's indexing capabilities, we can display the actual target classes for each cluster, just to compare the built clusters with our flower type classes..."
   ]
  },
  {
   "cell_type": "code",
   "execution_count": 92,
   "metadata": {
    "collapsed": false
   },
   "outputs": [
    {
     "name": "stdout",
     "output_type": "stream",
     "text": [
      "[0 0 0 0 0 0 0 1 0 0 0 1 0 0 0 0 0 0 0 0 0 0 0 0 0 0 0 0 0 0 0 0 0 0 0 0 0\n",
      " 0 0 0 0 0 0]\n"
     ]
    }
   ],
   "source": [
    "print (y_train[clf_sepal.labels_==0])"
   ]
  },
  {
   "cell_type": "code",
   "execution_count": 93,
   "metadata": {
    "collapsed": false
   },
   "outputs": [
    {
     "name": "stdout",
     "output_type": "stream",
     "text": [
      "[1 1 1 1 1 1 2 1 0 2 1 2 2 1 1 2 2 1 2 2 2 1 1 1 1 1 1 1 2 1 1 1 1 1 1 1 1\n",
      " 2 1 2 1 1 2 1]\n"
     ]
    }
   ],
   "source": [
    "print (y_train[clf_sepal.labels_==1])"
   ]
  },
  {
   "cell_type": "code",
   "execution_count": 94,
   "metadata": {
    "collapsed": false
   },
   "outputs": [
    {
     "name": "stdout",
     "output_type": "stream",
     "text": [
      "[2 2 1 2 2 2 2 1 1 2 2 1 2 2 1 1 2 2 2 2 2 2 1 2 2]\n"
     ]
    }
   ],
   "source": [
    "print (y_train[clf_sepal.labels_==2])"
   ]
  },
  {
   "cell_type": "markdown",
   "metadata": {},
   "source": [
    "As usually, is a good idea to display our instances and the clusters they belong to, to have a first approximation to how well our algorithm is behaving on our data: "
   ]
  },
  {
   "cell_type": "code",
   "execution_count": 95,
   "metadata": {
    "collapsed": false
   },
   "outputs": [],
   "source": [
    "colormarkers = [ ['red','s'], ['greenyellow','o'], ['blue','x']]\n",
    "step = .01 \n",
    "margin = .1   \n",
    "sl_min, sl_max = X_train4[:, 0].min()-margin, X_train4[:, 0].max() + margin\n",
    "sw_min, sw_max = X_train4[:, 1].min()-margin, X_train4[:, 1].max() + margin\n",
    "sl, sw  = np.meshgrid(\n",
    "    np.arange(sl_min, sl_max, step),\n",
    "np.arange(sw_min, sw_max, step)\n",
    "    )\n",
    "Zs = clf_sepal.predict(np.c_[sl.ravel(), sw.ravel()]).reshape(sl.shape)\n",
    "centroids_s = clf_sepal.cluster_centers_\n"
   ]
  },
  {
   "cell_type": "markdown",
   "metadata": {},
   "source": [
    "Display the data points and the calculated regions"
   ]
  },
  {
   "cell_type": "code",
   "execution_count": 96,
   "metadata": {
    "collapsed": false
   },
   "outputs": [
    {
     "data": {
      "image/png": "[encoded data removed]",
      "text/plain": [
       "<matplotlib.figure.Figure at 0xd909cf8>"
      ]
     },
     "metadata": {},
     "output_type": "display_data"
    }
   ],
   "source": [
    "plt.figure(1)\n",
    "plt.clf()\n",
    "plt.imshow(Zs, interpolation='nearest', \n",
    "           extent=(sl.min(), sl.max(), sw.min(), sw.max()),\n",
    "           cmap= plt.cm.Pastel1, aspect='auto', origin='lower')\n",
    "for j in [0,1,2]:\n",
    "    px = X_train4[:, 0][y_train == j]\n",
    "    py = X_train4[:, 1][y_train == j]\n",
    "    plt.scatter(px, py, c=colormarkers[j][0], marker= colormarkers[j][1])\n",
    "plt.scatter(centroids_s[:, 0], centroids_s[:, 1],marker='*',linewidths=3, color='black', zorder=10)\n",
    "plt.title('K-means clustering on the Iris dataset using Sepal dimensions\\nCentroids are marked with stars')\n",
    "plt.xlim(sl_min, sl_max)\n",
    "plt.ylim(sw_min, sw_max)\n",
    "plt.xlabel(\"Sepal length\")\n",
    "plt.ylabel(\"Sepal width\")\n",
    "plt.show()"
   ]
  },
  {
   "cell_type": "markdown",
   "metadata": {},
   "source": [
    "Repeat the experiment, using petal dimensions"
   ]
  },
  {
   "cell_type": "code",
   "execution_count": 98,
   "metadata": {
    "collapsed": false
   },
   "outputs": [
    {
     "data": {
      "text/plain": [
       "KMeans(copy_x=True, init='k-means++', max_iter=300, n_clusters=3, n_init=10,\n",
       "    n_jobs=1, precompute_distances='auto', random_state=33, tol=0.0001,\n",
       "    verbose=0)"
      ]
     },
     "execution_count": 98,
     "metadata": {},
     "output_type": "execute_result"
    }
   ],
   "source": [
    "clf_petal = cluster.KMeans(init='k-means++', n_clusters=3, random_state=33)\n",
    "clf_petal.fit(X_train4[:,2:4])"
   ]
  },
  {
   "cell_type": "code",
   "execution_count": 101,
   "metadata": {
    "collapsed": false
   },
   "outputs": [
    {
     "name": "stdout",
     "output_type": "stream",
     "text": [
      "[0 0 0 0 0 0 0 0 0 0 0 0 0 0 0 0 0 0 0 0 0 0 0 0 0 0 0 0 0 0 0 0 0 0 0 0 0\n",
      " 0 0 0 0 0]\n"
     ]
    }
   ],
   "source": [
    "print (y_train4[clf_petal.labels_==0])"
   ]
  },
  {
   "cell_type": "code",
   "execution_count": 102,
   "metadata": {
    "collapsed": false
   },
   "outputs": [
    {
     "name": "stdout",
     "output_type": "stream",
     "text": [
      "[1 1 1 1 1 1 1 1 2 1 1 1 1 1 1 1 1 1 1 1 1 1 1 1 1 1 1 1 1 1 1 1 1 2 1 1 1\n",
      " 1]\n"
     ]
    }
   ],
   "source": [
    "print (y_train4[clf_petal.labels_==1])"
   ]
  },
  {
   "cell_type": "code",
   "execution_count": 103,
   "metadata": {
    "collapsed": false
   },
   "outputs": [
    {
     "name": "stdout",
     "output_type": "stream",
     "text": [
      "[2 2 2 2 1 2 2 2 2 2 2 2 2 2 2 2 2 2 2 2 2 2 2 1 2 2 2 1 2 2 2 2]\n"
     ]
    }
   ],
   "source": [
    "print (y_train4[clf_petal.labels_==2])"
   ]
  },
  {
   "cell_type": "markdown",
   "metadata": {},
   "source": [
    "Plot the clusters "
   ]
  },
  {
   "cell_type": "code",
   "execution_count": 104,
   "metadata": {
    "collapsed": false
   },
   "outputs": [
    {
     "data": {
      "image/png": "[encoded data removed]",
      "text/plain": [
       "<matplotlib.figure.Figure at 0xdc45b38>"
      ]
     },
     "metadata": {},
     "output_type": "display_data"
    }
   ],
   "source": [
    "colormarkers = [ ['red','s'], ['greenyellow','o'], ['blue','x']]\n",
    "step = .01 \n",
    "margin = .1\n",
    "sl_min, sl_max = X_train4[:, 2].min()-margin, X_train4[:, 2].max() + margin\n",
    "sw_min, sw_max = X_train4[:, 3].min()-margin, X_train4[:, 3].max() + margin\n",
    "sl, sw  = np.meshgrid(\n",
    "    np.arange(sl_min, sl_max, step),\n",
    "    np.arange(sw_min, sw_max, step), \n",
    "    )\n",
    "Zs = clf_petal.predict(np.c_[sl.ravel(), sw.ravel()]).reshape(sl.shape)\n",
    "centroids_s = clf_petal.cluster_centers_\n",
    "plt.figure(1)\n",
    "plt.clf()\n",
    "plt.imshow(Zs, interpolation='nearest', extent=(sl.min(), sl.max(),\n",
    "                                                sw.min(), sw.max()), cmap= plt.cm.Pastel1, aspect='auto', origin='lower')\n",
    "for j in [0,1,2]:\n",
    "    px = X_train4[:, 2][y_train4 == j]\n",
    "    py = X_train4[:, 3][y_train4 == j]\n",
    "    plt.scatter(px, py, c=colormarkers[j][0], marker= colormarkers[j][1])\n",
    "plt.scatter(centroids_s[:, 0], centroids_s[:, 1],marker='*',linewidths=3, color='black', zorder=10)\n",
    "plt.title('K-means clustering on the Iris dataset using Petal dimensions\\nCentroids are marked with stars')\n",
    "plt.xlim(sl_min, sl_max)\n",
    "plt.ylim(sw_min, sw_max)\n",
    "plt.xlabel(\"Petal length\")\n",
    "plt.ylabel(\"Petal width\")\n",
    "plt.show()"
   ]
  },
  {
   "cell_type": "markdown",
   "metadata": {},
   "source": [
    "Now, calculate the clusters, using the four attributes"
   ]
  },
  {
   "cell_type": "code",
   "execution_count": 105,
   "metadata": {
    "collapsed": false
   },
   "outputs": [
    {
     "data": {
      "text/plain": [
       "KMeans(copy_x=True, init='k-means++', max_iter=300, n_clusters=3, n_init=10,\n",
       "    n_jobs=1, precompute_distances='auto', random_state=33, tol=0.0001,\n",
       "    verbose=0)"
      ]
     },
     "execution_count": 105,
     "metadata": {},
     "output_type": "execute_result"
    }
   ],
   "source": [
    "clf = cluster.KMeans(init='k-means++', n_clusters=3, random_state=33)\n",
    "clf.fit(X_train4)"
   ]
  },
  {
   "cell_type": "code",
   "execution_count": 106,
   "metadata": {
    "collapsed": false
   },
   "outputs": [
    {
     "name": "stdout",
     "output_type": "stream",
     "text": [
      "[0 0 0 0 0 0 0 0 0 0 0 0 0 0 0 0 0 0 0 0 0 0 0 0 0 0 0 0 0 0 0 0 0 0 0 0 0\n",
      " 0 0 0 0 0]\n"
     ]
    }
   ],
   "source": [
    "print (y_train[clf.labels_==0])"
   ]
  },
  {
   "cell_type": "code",
   "execution_count": 107,
   "metadata": {
    "collapsed": false
   },
   "outputs": [
    {
     "name": "stdout",
     "output_type": "stream",
     "text": [
      "[1 1 1 1 1 1 1 1 2 1 1 1 1 1 1 1 1 1 1 1 1 1 1 1 1 1 1 2 1 2 1 1 2 1]\n"
     ]
    }
   ],
   "source": [
    "print (y_train[clf.labels_==1])"
   ]
  },
  {
   "cell_type": "code",
   "execution_count": 108,
   "metadata": {
    "collapsed": false
   },
   "outputs": [
    {
     "name": "stdout",
     "output_type": "stream",
     "text": [
      "[2 2 1 2 2 1 2 2 1 2 2 2 1 2 1 2 2 2 1 2 2 2 2 2 1 1 2 2 2 2 2 2 2 1 2 2]\n"
     ]
    }
   ],
   "source": [
    "print (y_train[clf.labels_==2])"
   ]
  },
  {
   "cell_type": "markdown",
   "metadata": {},
   "source": [
    "Measure precision & recall in the testing set, using all attributes, and using only petal measures"
   ]
  },
  {
   "cell_type": "code",
   "execution_count": 110,
   "metadata": {
    "collapsed": false
   },
   "outputs": [
    {
     "name": "stdout",
     "output_type": "stream",
     "text": [
      "             precision    recall  f1-score   support\n",
      "\n",
      "     setosa       1.00      1.00      1.00         8\n",
      " versicolor       0.64      0.64      0.64        11\n",
      "  virginica       0.79      0.79      0.79        19\n",
      "\n",
      "avg / total       0.79      0.79      0.79        38\n",
      "\n"
     ]
    }
   ],
   "source": [
    "y_pred=clf.predict(X_test4)\n",
    "print (metrics.classification_report(y_test, y_pred, target_names=['setosa','versicolor','virginica']))"
   ]
  },
  {
   "cell_type": "code",
   "execution_count": 111,
   "metadata": {
    "collapsed": false
   },
   "outputs": [
    {
     "name": "stdout",
     "output_type": "stream",
     "text": [
      "             precision    recall  f1-score   support\n",
      "\n",
      "     setosa       1.00      1.00      1.00         8\n",
      " versicolor       0.85      1.00      0.92        11\n",
      "  virginica       1.00      0.89      0.94        19\n",
      "\n",
      "avg / total       0.96      0.95      0.95        38\n",
      "\n"
     ]
    }
   ],
   "source": [
    "y_pred_petal=clf_petal.predict(X_test4[:,2:4])\n",
    "print (metrics.classification_report(y_test, y_pred_petal, target_names=['setosa','versicolor','virginica']))"
   ]
  },
  {
   "cell_type": "markdown",
   "metadata": {},
   "source": [
    "Wait, every performance measure is better using just two attributes. It is possible that less features give better results? Although at a first glance this seems contradictory, we will see in future notebooks that selecting the right subset of features, a process called feature selection, could actually improve the performance of our algorithms."
   ]
  },
  {
   "cell_type": "markdown",
   "metadata": {},
   "source": [
    "# Supervised Learning: Regression\n",
    "In every example we have seen so far the output we aimed at predicting belonged to a discrete set. For classification, the set was the target class, while for the clustering algorithm the set included different calculated clusters. What if we want to predict a value extracted from the real line?. In this case, we are trying to solve a regression problem. \n",
    "\n",
    "To show how regression works in scikit-learn, we will apply to a (very) simple and well-know problem: trying to predict the price of a house given some of its. As the dataset, we will use the Boston house-prices dataset (find the dataset description and attributes [here](http://www.cs.toronto.edu/~delve/data/boston/bostonDetail.html)."
   ]
  },
  {
   "cell_type": "code",
   "execution_count": 112,
   "metadata": {
    "collapsed": false
   },
   "outputs": [
    {
     "name": "stdout",
     "output_type": "stream",
     "text": [
      "Boston dataset shape:(506L, 13L)\n"
     ]
    }
   ],
   "source": [
    "from sklearn.datasets import load_boston\n",
    "boston = load_boston()\n",
    "print ('Boston dataset shape:{}'.format(boston.data.shape))"
   ]
  },
  {
   "cell_type": "code",
   "execution_count": 113,
   "metadata": {
    "collapsed": false
   },
   "outputs": [
    {
     "name": "stdout",
     "output_type": "stream",
     "text": [
      "['CRIM' 'ZN' 'INDUS' 'CHAS' 'NOX' 'RM' 'AGE' 'DIS' 'RAD' 'TAX' 'PTRATIO'\n",
      " 'B' 'LSTAT']\n"
     ]
    }
   ],
   "source": [
    "print (boston.feature_names)"
   ]
  },
  {
   "cell_type": "markdown",
   "metadata": {},
   "source": [
    "Create training and testing sets, and scale values, as usual"
   ]
  },
  {
   "cell_type": "code",
   "execution_count": 115,
   "metadata": {
    "collapsed": false
   },
   "outputs": [
    {
     "name": "stderr",
     "output_type": "stream",
     "text": [
      "C:\\Miniconda2\\lib\\site-packages\\sklearn\\preprocessing\\data.py:583: DeprecationWarning: Passing 1d arrays as data is deprecated in 0.17 and will raise ValueError in 0.19. Reshape your data either using X.reshape(-1, 1) if your data has a single feature or X.reshape(1, -1) if it contains a single sample.\n",
      "  warnings.warn(DEPRECATION_MSG_1D, DeprecationWarning)\n",
      "C:\\Miniconda2\\lib\\site-packages\\sklearn\\preprocessing\\data.py:646: DeprecationWarning: Passing 1d arrays as data is deprecated in 0.17 and will raise ValueError in 0.19. Reshape your data either using X.reshape(-1, 1) if your data has a single feature or X.reshape(1, -1) if it contains a single sample.\n",
      "  warnings.warn(DEPRECATION_MSG_1D, DeprecationWarning)\n"
     ]
    }
   ],
   "source": [
    "X_train_boston=boston.data\n",
    "y_train_boston=boston.target\n",
    "X_train_boston = StandardScaler().fit_transform(X_train_boston)\n",
    "y_train_boston = StandardScaler().fit_transform(y_train_boston)"
   ]
  },
  {
   "cell_type": "markdown",
   "metadata": {},
   "source": [
    "Create a method for training and evaluating a model. This time, to evaluate our model we will a different approach: instead of separating the training set, we will use _cross-validation_. \n",
    "\n",
    "Cross-validation usually involves the following steps:\n",
    "1. Partition the dataset into k different subsets.\n",
    "2. Create k different models by training on k-1 subsets and testing on the remaining one.\n",
    "3. Measure the performance of each of the k models and use the average value as you performance value.\n"
   ]
  },
  {
   "cell_type": "code",
   "execution_count": 117,
   "metadata": {
    "collapsed": true
   },
   "outputs": [],
   "source": [
    "def train_and_evaluate(clf, X_train, y_train, folds):\n",
    "    clf.fit(X_train, y_train)\n",
    "    print ('Score on training set: {:.2f}'.format(clf.score(X_train, y_train)))\n",
    "    #create a k-fold cross validation iterator of k=5 folds\n",
    "    cv = sklearn.cross_validation.KFold(X_train.shape[0], folds, shuffle=True, random_state=33)\n",
    "    scores = sklearn.cross_validation.cross_val_score(clf, X_train, y_train, cv=cv)\n",
    "    print ('Average score using {}-fold crossvalidation:{:.2f}'.format(folds,np.mean(scores)))\n"
   ]
  },
  {
   "cell_type": "markdown",
   "metadata": {},
   "source": [
    "One of the main advantages of cross-validation is reducing the variance of the evaluation measures. Note that when you have a training and testing set, you result will depend on how you created them. Evaluation within machine learning generally assumes that the distribution of classes on your training and testing sets are similar. If this is not the case, you may get results that are not an accurate measure of the actual classifier’s performance. Cross-validation allows us to mitigate this risk: since we are averaging on k different models built on k different datasets, we are reducing variance and probably producing more realistic performance scores for our models.\n",
    "Scikit-learn includes a linear model method called linear_model.SGDRegressor , which tries to minimize least squares loss using stochastic gradient descent. We will use it to find the model for Boston house values, and predict a new house value, given its 13 learning features."
   ]
  },
  {
   "cell_type": "code",
   "execution_count": 119,
   "metadata": {
    "collapsed": false
   },
   "outputs": [
    {
     "name": "stdout",
     "output_type": "stream",
     "text": [
      "Score on training set: 0.73\n",
      "Average score using 5-fold crossvalidation:0.70\n"
     ]
    }
   ],
   "source": [
    "import sklearn\n",
    "from sklearn import linear_model\n",
    "clf_sgd = linear_model.SGDRegressor(loss='squared_loss', penalty=None, random_state=33)\n",
    "train_and_evaluate(clf_sgd, X_train_boston, y_train_boston,5)\n"
   ]
  },
  {
   "cell_type": "markdown",
   "metadata": {},
   "source": [
    "If you remember the classification, we used accuracy, the proportion of correctly classified instances in the evaluation set, to summarize in just one number our method’s performance. For regression, accuracy is not a good idea, since we are predicting real values, and it is almost impossible that we may exactly predict the final real value. For regression, the default score function in scikit-learn is the coefficient of determination (or $R^2$ score), which measures the proportion of outcome variation explained by the model.; $R^2$ score ranges from 0 to 1, and reaches its maximum value of 1 when the model perfectly predicts all the target values. \n",
    "\n",
    "Let us show the the model  hyperplane coefficients"
   ]
  },
  {
   "cell_type": "code",
   "execution_count": 120,
   "metadata": {
    "collapsed": false
   },
   "outputs": [
    {
     "name": "stdout",
     "output_type": "stream",
     "text": [
      "[-0.06777406  0.06767528 -0.04290825  0.08828856 -0.11797833  0.3394894\n",
      " -0.01969258 -0.23195707  0.09594823 -0.05271866 -0.19913907  0.10355794\n",
      " -0.36852382]\n"
     ]
    }
   ],
   "source": [
    "print(clf_sgd.coef_)"
   ]
  },
  {
   "cell_type": "markdown",
   "metadata": {},
   "source": [
    "You probably noted the `penalty=None` parameter when we called the method. The penalization parameter for linear regression methods is introduced to avoid overfitting. It does this by penalizing those hyperplanes having some of their coefficients too large, seeking hyperplanes where each feature contributes more or less the same to the predicted value. This parameter is generally the L2 norm (the squared sums of the coefficients) or the L1 norm (the sum of the absolute value of the coefficients). Let us see how our model works if we introduce a L2 penalty:"
   ]
  },
  {
   "cell_type": "code",
   "execution_count": 121,
   "metadata": {
    "collapsed": false
   },
   "outputs": [
    {
     "name": "stdout",
     "output_type": "stream",
     "text": [
      "Score on training set: 0.73\n",
      "Average score using 5-fold crossvalidation:0.70\n"
     ]
    }
   ],
   "source": [
    "clf_sgd1 = linear_model.SGDRegressor(loss='squared_loss', penalty='l2', random_state=33)\n",
    "train_and_evaluate(clf_sgd1, X_train_boston, y_train_boston,folds=5)"
   ]
  },
  {
   "cell_type": "markdown",
   "metadata": {},
   "source": [
    "## Summary of the implementation here:\n",
    "To end with this chapter, we will summarize the main common steps to apply a supervised learning method in scikit-learn:\n",
    "-\tGet your dataset. Select your learning features, and create a 2D data array, with one column for each feature, and one row for each learning instance. Every feature is represented by a real number. Your data probably does not look like that in its original format. In the real world, this the preprocessing stage usually takes a lot of time. In the next chapters we will show several examples of preprocessing different types of data. \n",
    "-\tCreate an instance of an estimator (a classifier or a regressor). In scikit-learn, this corresponds to an object that implements the methods `fit(X,y)` and `predict(T)`. This estimator takes as arguments the model’s parameters. You can set these parameters by hand, or using tools for model selection (we will address this later in this book).\n",
    "-\tSeparate you training and testing sets (or, alternatively, use cross-validation)\n",
    "-\tBuild the model using the `fit(X,y)` method, being X your training data, and y the corresponding target class. \n",
    "-\tEvaluate you estimator on the testing data, using the `predict(T)` method, being T your testing dataset.\n",
    "-\tCompare your results with the original target classes, using one of the several measures in the metrics module.\n",
    "\n",
    "The previous steps are only an overview: scikit-learn offers several additional methods implementing different machine learning operations (such as dimensionality reduction, clustering, or semi-supervised learning), and many dataset transformation methods. \n",
    "We would look at most of them in the subsequent sections.\n",
    "___\n"
   ]
  },
  {
   "cell_type": "markdown",
   "metadata": {},
   "source": [
    "## What to do when you are stuck\n",
    "\n",
    "We try to convey every idea necessary to reproduce the steps throughout this\n",
    "website. Nevertheless, there will be situations where you are stuck. The reasons\n",
    "might range from simple typos over odd combinations of package versions to\n",
    "problems in understanding.\n",
    "\n",
    "In this situation, there are many different ways to get help. Most likely, your problem\n",
    "will already be raised and solved in the following excellent Q&A sites:\n",
    "\n",
    "http://metaoptimize.com/qa: This Q&A site is laser-focused on machine learning\n",
    "topics. For almost every question, it contains above average answers from machine\n",
    "learning experts. Even if you don't have any questions, it is a good habit to check it\n",
    "out every now and then and read through some of the answers.\n",
    "\n",
    "http://stats.stackexchange.com: This Q&A site is named Cross Validated,\n",
    "similar to MetaOptimize, but is focused more on statistical problems.\n",
    "\n",
    "http://stackoverflow.com: This Q&A site is much like the previous ones,\n",
    "but with broader focus on general programming topics. It contains, for example,\n",
    "more questions on some of the packages that we will use in this book, such as\n",
    "SciPy or matplotlib.\n",
    "\n",
    "http://www.TwoToReal.com: This is the instant Q&A site written by the authors to\n",
    "support you in topics that don't fit in any of the preceding buckets. If you post your\n",
    "question, one of the authors will get an instant message if he is online and be drawn\n",
    "in a chat with you.\n",
    "\n",
    "As stated in the beginning, this book tries to help you get started quickly on your\n",
    "machine learning journey. Therefore, we highly encourage you to build up your own\n",
    "list of machine learning related blogs and check them out regularly. This is the best\n",
    "way to get to know what works and what doesn't.\n",
    "\n",
    "The only blog we want to highlight right here is http://blog.kaggle.com, the blog of the Kaggle company, which is carrying out machine learning competitions. Typically, they encourage the winners of the competitions to\n",
    "write down how they approached the competition, what strategies did not work, and\n",
    "how they arrived at the winning strategy. Even if you don't read anything else, this is a must."
   ]
  },
  {
   "cell_type": "markdown",
   "metadata": {},
   "source": [
    "___"
   ]
  }
 ],
 "metadata": {
  "kernelspec": {
   "display_name": "Python 3",
   "language": "python",
   "name": "python3"
  },
  "language_info": {
   "codemirror_mode": {
    "name": "ipython",
    "version": 3
   },
   "file_extension": ".py",
   "mimetype": "text/x-python",
   "name": "python",
   "nbconvert_exporter": "python",
   "pygments_lexer": "ipython3",
   "version": "3.5.2"
  }
 },
 "nbformat": 4,
 "nbformat_minor": 0
}
